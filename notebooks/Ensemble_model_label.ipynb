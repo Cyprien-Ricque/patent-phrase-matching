{
 "cells": [
  {
   "cell_type": "code",
   "execution_count": 1,
   "outputs": [],
   "source": [
    "# Made using https://luv-bansal.medium.com/fine-tuning-bert-for-text-classification-in-pytorch-503d97342db2"
   ],
   "metadata": {
    "collapsed": false,
    "pycharm": {
     "name": "#%%\n"
    }
   }
  },
  {
   "cell_type": "code",
   "execution_count": 2,
   "outputs": [],
   "source": [
    "import pandas as pd\n",
    "import numpy as np\n",
    "import matplotlib.pyplot as plt\n",
    "import seaborn as sns\n",
    "\n",
    "import os\n",
    "os.environ['TOKENIZERS_PARALLELISM'] = 'false'"
   ],
   "metadata": {
    "collapsed": false,
    "pycharm": {
     "name": "#%%\n"
    }
   }
  },
  {
   "cell_type": "markdown",
   "source": [
    "## Load Data"
   ],
   "metadata": {
    "collapsed": false,
    "pycharm": {
     "name": "#%% md\n"
    }
   }
  },
  {
   "cell_type": "code",
   "execution_count": 3,
   "outputs": [
    {
     "data": {
      "text/plain": "                 id     anchor                  target context  score\n0  37d61fd2272659b1  abatement  abatement of pollution     A47   0.50\n1  7b9652b17b68b7a4  abatement          act of abating     A47   0.75",
      "text/html": "<div>\n<style scoped>\n    .dataframe tbody tr th:only-of-type {\n        vertical-align: middle;\n    }\n\n    .dataframe tbody tr th {\n        vertical-align: top;\n    }\n\n    .dataframe thead th {\n        text-align: right;\n    }\n</style>\n<table border=\"1\" class=\"dataframe\">\n  <thead>\n    <tr style=\"text-align: right;\">\n      <th></th>\n      <th>id</th>\n      <th>anchor</th>\n      <th>target</th>\n      <th>context</th>\n      <th>score</th>\n    </tr>\n  </thead>\n  <tbody>\n    <tr>\n      <th>0</th>\n      <td>37d61fd2272659b1</td>\n      <td>abatement</td>\n      <td>abatement of pollution</td>\n      <td>A47</td>\n      <td>0.50</td>\n    </tr>\n    <tr>\n      <th>1</th>\n      <td>7b9652b17b68b7a4</td>\n      <td>abatement</td>\n      <td>act of abating</td>\n      <td>A47</td>\n      <td>0.75</td>\n    </tr>\n  </tbody>\n</table>\n</div>"
     },
     "execution_count": 3,
     "metadata": {},
     "output_type": "execute_result"
    }
   ],
   "source": [
    "data_path = '../data/us-patent-phrase-to-phrase-matching/'\n",
    "train_file = 'train.csv'\n",
    "test_file = 'test.csv'\n",
    "\n",
    "df_train = pd.read_csv(data_path + train_file)\n",
    "df_train.head(2)"
   ],
   "metadata": {
    "collapsed": false,
    "pycharm": {
     "name": "#%%\n"
    }
   }
  },
  {
   "cell_type": "code",
   "execution_count": 4,
   "outputs": [
    {
     "data": {
      "text/plain": "                 id           anchor                         target context\n0  4112d61851461f60         opc drum  inorganic photoconductor drum     G02\n1  09e418c93a776564  adjust gas flow              altering gas flow     F23",
      "text/html": "<div>\n<style scoped>\n    .dataframe tbody tr th:only-of-type {\n        vertical-align: middle;\n    }\n\n    .dataframe tbody tr th {\n        vertical-align: top;\n    }\n\n    .dataframe thead th {\n        text-align: right;\n    }\n</style>\n<table border=\"1\" class=\"dataframe\">\n  <thead>\n    <tr style=\"text-align: right;\">\n      <th></th>\n      <th>id</th>\n      <th>anchor</th>\n      <th>target</th>\n      <th>context</th>\n    </tr>\n  </thead>\n  <tbody>\n    <tr>\n      <th>0</th>\n      <td>4112d61851461f60</td>\n      <td>opc drum</td>\n      <td>inorganic photoconductor drum</td>\n      <td>G02</td>\n    </tr>\n    <tr>\n      <th>1</th>\n      <td>09e418c93a776564</td>\n      <td>adjust gas flow</td>\n      <td>altering gas flow</td>\n      <td>F23</td>\n    </tr>\n  </tbody>\n</table>\n</div>"
     },
     "execution_count": 4,
     "metadata": {},
     "output_type": "execute_result"
    }
   ],
   "source": [
    "df_test = pd.read_csv(data_path + test_file)\n",
    "df_test.head(2)"
   ],
   "metadata": {
    "collapsed": false,
    "pycharm": {
     "name": "#%%\n"
    }
   }
  },
  {
   "cell_type": "code",
   "execution_count": 5,
   "outputs": [
    {
     "data": {
      "text/plain": "  context                                              title section  class  \\\n0       A                                  HUMAN NECESSITIES       A    NaN   \n1     A01  AGRICULTURE; FORESTRY; ANIMAL HUSBANDRY; HUNTI...       A    1.0   \n\n  subclass  group  main_group  \n0      NaN    NaN         NaN  \n1      NaN    NaN         NaN  ",
      "text/html": "<div>\n<style scoped>\n    .dataframe tbody tr th:only-of-type {\n        vertical-align: middle;\n    }\n\n    .dataframe tbody tr th {\n        vertical-align: top;\n    }\n\n    .dataframe thead th {\n        text-align: right;\n    }\n</style>\n<table border=\"1\" class=\"dataframe\">\n  <thead>\n    <tr style=\"text-align: right;\">\n      <th></th>\n      <th>context</th>\n      <th>title</th>\n      <th>section</th>\n      <th>class</th>\n      <th>subclass</th>\n      <th>group</th>\n      <th>main_group</th>\n    </tr>\n  </thead>\n  <tbody>\n    <tr>\n      <th>0</th>\n      <td>A</td>\n      <td>HUMAN NECESSITIES</td>\n      <td>A</td>\n      <td>NaN</td>\n      <td>NaN</td>\n      <td>NaN</td>\n      <td>NaN</td>\n    </tr>\n    <tr>\n      <th>1</th>\n      <td>A01</td>\n      <td>AGRICULTURE; FORESTRY; ANIMAL HUSBANDRY; HUNTI...</td>\n      <td>A</td>\n      <td>1.0</td>\n      <td>NaN</td>\n      <td>NaN</td>\n      <td>NaN</td>\n    </tr>\n  </tbody>\n</table>\n</div>"
     },
     "execution_count": 5,
     "metadata": {},
     "output_type": "execute_result"
    }
   ],
   "source": [
    "cpc_codes = pd.read_csv('../data/cooperative-patent-classification-codes-meaning/titles.csv').rename(columns={\"code\" : \"context\"})\n",
    "cpc_codes.head(2)"
   ],
   "metadata": {
    "collapsed": false,
    "pycharm": {
     "name": "#%%\n"
    }
   }
  },
  {
   "cell_type": "code",
   "execution_count": 6,
   "outputs": [
    {
     "data": {
      "text/plain": "                 id     anchor                  target context  score  \\\n0  37d61fd2272659b1  abatement  abatement of pollution     A47   0.50   \n1  7b9652b17b68b7a4  abatement          act of abating     A47   0.75   \n\n                                               title  \n0  FURNITURE; DOMESTIC ARTICLES OR APPLIANCES; CO...  \n1  FURNITURE; DOMESTIC ARTICLES OR APPLIANCES; CO...  ",
      "text/html": "<div>\n<style scoped>\n    .dataframe tbody tr th:only-of-type {\n        vertical-align: middle;\n    }\n\n    .dataframe tbody tr th {\n        vertical-align: top;\n    }\n\n    .dataframe thead th {\n        text-align: right;\n    }\n</style>\n<table border=\"1\" class=\"dataframe\">\n  <thead>\n    <tr style=\"text-align: right;\">\n      <th></th>\n      <th>id</th>\n      <th>anchor</th>\n      <th>target</th>\n      <th>context</th>\n      <th>score</th>\n      <th>title</th>\n    </tr>\n  </thead>\n  <tbody>\n    <tr>\n      <th>0</th>\n      <td>37d61fd2272659b1</td>\n      <td>abatement</td>\n      <td>abatement of pollution</td>\n      <td>A47</td>\n      <td>0.50</td>\n      <td>FURNITURE; DOMESTIC ARTICLES OR APPLIANCES; CO...</td>\n    </tr>\n    <tr>\n      <th>1</th>\n      <td>7b9652b17b68b7a4</td>\n      <td>abatement</td>\n      <td>act of abating</td>\n      <td>A47</td>\n      <td>0.75</td>\n      <td>FURNITURE; DOMESTIC ARTICLES OR APPLIANCES; CO...</td>\n    </tr>\n  </tbody>\n</table>\n</div>"
     },
     "execution_count": 6,
     "metadata": {},
     "output_type": "execute_result"
    }
   ],
   "source": [
    "cpc_codes = cpc_codes.rename(columns = {\"code\" : \"context\"})\n",
    "df_train = pd.merge(df_train, cpc_codes[[\"context\",\"title\"]], on =\"context\", how = \"left\")\n",
    "df_test = pd.merge(df_test, cpc_codes[[\"context\",\"title\"]], on =\"context\", how = \"left\")\n",
    "df_train.head(2)"
   ],
   "metadata": {
    "collapsed": false,
    "pycharm": {
     "name": "#%%\n"
    }
   }
  },
  {
   "cell_type": "markdown",
   "source": [
    "### Preprocessing"
   ],
   "metadata": {
    "collapsed": false,
    "pycharm": {
     "name": "#%% md\n"
    }
   }
  },
  {
   "cell_type": "code",
   "execution_count": 7,
   "outputs": [],
   "source": [
    "from transformers import (PreTrainedModel, RobertaModel, RobertaTokenizerFast, RobertaConfig,\n",
    "                          get_constant_schedule_with_warmup, AdamW, RobertaTokenizer, BertTokenizerFast)\n",
    "from torch.utils.data import DataLoader, Dataset\n"
   ],
   "metadata": {
    "collapsed": false,
    "pycharm": {
     "name": "#%%\n"
    }
   }
  },
  {
   "cell_type": "code",
   "execution_count": 8,
   "outputs": [],
   "source": [
    "tokenizer = RobertaTokenizerFast.from_pretrained('roberta-base')"
   ],
   "metadata": {
    "collapsed": false,
    "pycharm": {
     "name": "#%%\n"
    }
   }
  },
  {
   "cell_type": "code",
   "execution_count": 23,
   "outputs": [
    {
     "data": {
      "text/plain": "12713              (fence post | BUILDING, area enclosure)\n16054    (illumination condition | PHOTOGRAPHY; CINEMAT...\nName: input, dtype: object"
     },
     "execution_count": 23,
     "metadata": {},
     "output_type": "execute_result"
    }
   ],
   "source": [
    "MAX_ANCHOR_LEN = 40\n",
    "MAX_TARGET_LEN = 50\n",
    "MAX_TITLE_LEN = 175\n",
    "\n",
    "df_train['input'] = df_train.apply(lambda x: (x.anchor + ' | ' + x.title, x.target), axis=1)  # Not sure '|' is a good idea\n",
    "df_test['input'] = df_test.apply(lambda x: (x.anchor + ' | ' + x.title, x.target), axis=1)  # Not sure '|' is a good idea\n",
    "df_train.input.iloc[:2]"
   ],
   "metadata": {
    "collapsed": false,
    "pycharm": {
     "name": "#%%\n"
    }
   }
  },
  {
   "cell_type": "code",
   "execution_count": 22,
   "outputs": [
    {
     "data": {
      "text/plain": "                     id                      anchor                    target  \\\n12713  81d5ddf31347fb55                  fence post            area enclosure   \n16054  4d9522d41d2cdbfe      illumination condition   illumination conditions   \n15223  6a401e4913d33c41             hardware blocks     hardware design block   \n35919  fb2142cd8f627770             wave generation         energy initiating   \n6295   b5fa55e436930db6  communicate through cavity  circulate through cavity   \n...                 ...                         ...                       ...   \n27064  d2a11a888cc1df50              receiver shaft            receiver brush   \n31597  076434b050b81842                     sprayed                   ejected   \n20450  54823433d8f7c95b    moisture absorption rate                heart rate   \n931    6cfe9eebf83c3070               agitate means            stirring means   \n34752  a72c92e45d27fae7                 vacuum cups          non contact type   \n\n      context  score                                              title  \\\n12713     E04   0.25                                           BUILDING   \n16054     G03   1.00  PHOTOGRAPHY; CINEMATOGRAPHY; ANALOGOUS TECHNIQ...   \n15223     H04   0.50                   ELECTRIC COMMUNICATION TECHNIQUE   \n35919     F42   0.50                               AMMUNITION; BLASTING   \n6295      F01   0.50  MACHINES OR ENGINES IN GENERAL; ENGINE PLANTS ...   \n...       ...    ...                                                ...   \n27064     H04   0.50                   ELECTRIC COMMUNICATION TECHNIQUE   \n31597     B41   0.50     PRINTING; LINING MACHINES; TYPEWRITERS; STAMPS   \n20450     D06   0.00  TREATMENT OF TEXTILES OR THE LIKE; LAUNDERING;...   \n931       B01   0.75  PHYSICAL OR CHEMICAL PROCESSES OR APPARATUS IN...   \n34752     E04   0.25                                           BUILDING   \n\n                                                   input              out  \n12713            (fence post | area enclosure, BUILDING)  [0, 1, 0, 0, 0]  \n16054  (illumination condition | illumination conditi...  [0, 0, 0, 0, 1]  \n15223  (hardware blocks | hardware design block, ELEC...  [0, 0, 1, 0, 0]  \n35919  (wave generation | energy initiating, AMMUNITI...  [0, 0, 1, 0, 0]  \n6295   (communicate through cavity | circulate throug...  [0, 0, 1, 0, 0]  \n...                                                  ...              ...  \n27064  (receiver shaft | receiver brush, ELECTRIC COM...  [0, 0, 1, 0, 0]  \n31597  (sprayed | ejected, PRINTING; LINING MACHINES;...  [0, 0, 1, 0, 0]  \n20450  (moisture absorption rate | heart rate, TREATM...  [1, 0, 0, 0, 0]  \n931    (agitate means | stirring means, PHYSICAL OR C...  [0, 0, 0, 1, 0]  \n34752         (vacuum cups | non contact type, BUILDING)  [0, 1, 0, 0, 0]  \n\n[34649 rows x 8 columns]",
      "text/html": "<div>\n<style scoped>\n    .dataframe tbody tr th:only-of-type {\n        vertical-align: middle;\n    }\n\n    .dataframe tbody tr th {\n        vertical-align: top;\n    }\n\n    .dataframe thead th {\n        text-align: right;\n    }\n</style>\n<table border=\"1\" class=\"dataframe\">\n  <thead>\n    <tr style=\"text-align: right;\">\n      <th></th>\n      <th>id</th>\n      <th>anchor</th>\n      <th>target</th>\n      <th>context</th>\n      <th>score</th>\n      <th>title</th>\n      <th>input</th>\n      <th>out</th>\n    </tr>\n  </thead>\n  <tbody>\n    <tr>\n      <th>12713</th>\n      <td>81d5ddf31347fb55</td>\n      <td>fence post</td>\n      <td>area enclosure</td>\n      <td>E04</td>\n      <td>0.25</td>\n      <td>BUILDING</td>\n      <td>(fence post | area enclosure, BUILDING)</td>\n      <td>[0, 1, 0, 0, 0]</td>\n    </tr>\n    <tr>\n      <th>16054</th>\n      <td>4d9522d41d2cdbfe</td>\n      <td>illumination condition</td>\n      <td>illumination conditions</td>\n      <td>G03</td>\n      <td>1.00</td>\n      <td>PHOTOGRAPHY; CINEMATOGRAPHY; ANALOGOUS TECHNIQ...</td>\n      <td>(illumination condition | illumination conditi...</td>\n      <td>[0, 0, 0, 0, 1]</td>\n    </tr>\n    <tr>\n      <th>15223</th>\n      <td>6a401e4913d33c41</td>\n      <td>hardware blocks</td>\n      <td>hardware design block</td>\n      <td>H04</td>\n      <td>0.50</td>\n      <td>ELECTRIC COMMUNICATION TECHNIQUE</td>\n      <td>(hardware blocks | hardware design block, ELEC...</td>\n      <td>[0, 0, 1, 0, 0]</td>\n    </tr>\n    <tr>\n      <th>35919</th>\n      <td>fb2142cd8f627770</td>\n      <td>wave generation</td>\n      <td>energy initiating</td>\n      <td>F42</td>\n      <td>0.50</td>\n      <td>AMMUNITION; BLASTING</td>\n      <td>(wave generation | energy initiating, AMMUNITI...</td>\n      <td>[0, 0, 1, 0, 0]</td>\n    </tr>\n    <tr>\n      <th>6295</th>\n      <td>b5fa55e436930db6</td>\n      <td>communicate through cavity</td>\n      <td>circulate through cavity</td>\n      <td>F01</td>\n      <td>0.50</td>\n      <td>MACHINES OR ENGINES IN GENERAL; ENGINE PLANTS ...</td>\n      <td>(communicate through cavity | circulate throug...</td>\n      <td>[0, 0, 1, 0, 0]</td>\n    </tr>\n    <tr>\n      <th>...</th>\n      <td>...</td>\n      <td>...</td>\n      <td>...</td>\n      <td>...</td>\n      <td>...</td>\n      <td>...</td>\n      <td>...</td>\n      <td>...</td>\n    </tr>\n    <tr>\n      <th>27064</th>\n      <td>d2a11a888cc1df50</td>\n      <td>receiver shaft</td>\n      <td>receiver brush</td>\n      <td>H04</td>\n      <td>0.50</td>\n      <td>ELECTRIC COMMUNICATION TECHNIQUE</td>\n      <td>(receiver shaft | receiver brush, ELECTRIC COM...</td>\n      <td>[0, 0, 1, 0, 0]</td>\n    </tr>\n    <tr>\n      <th>31597</th>\n      <td>076434b050b81842</td>\n      <td>sprayed</td>\n      <td>ejected</td>\n      <td>B41</td>\n      <td>0.50</td>\n      <td>PRINTING; LINING MACHINES; TYPEWRITERS; STAMPS</td>\n      <td>(sprayed | ejected, PRINTING; LINING MACHINES;...</td>\n      <td>[0, 0, 1, 0, 0]</td>\n    </tr>\n    <tr>\n      <th>20450</th>\n      <td>54823433d8f7c95b</td>\n      <td>moisture absorption rate</td>\n      <td>heart rate</td>\n      <td>D06</td>\n      <td>0.00</td>\n      <td>TREATMENT OF TEXTILES OR THE LIKE; LAUNDERING;...</td>\n      <td>(moisture absorption rate | heart rate, TREATM...</td>\n      <td>[1, 0, 0, 0, 0]</td>\n    </tr>\n    <tr>\n      <th>931</th>\n      <td>6cfe9eebf83c3070</td>\n      <td>agitate means</td>\n      <td>stirring means</td>\n      <td>B01</td>\n      <td>0.75</td>\n      <td>PHYSICAL OR CHEMICAL PROCESSES OR APPARATUS IN...</td>\n      <td>(agitate means | stirring means, PHYSICAL OR C...</td>\n      <td>[0, 0, 0, 1, 0]</td>\n    </tr>\n    <tr>\n      <th>34752</th>\n      <td>a72c92e45d27fae7</td>\n      <td>vacuum cups</td>\n      <td>non contact type</td>\n      <td>E04</td>\n      <td>0.25</td>\n      <td>BUILDING</td>\n      <td>(vacuum cups | non contact type, BUILDING)</td>\n      <td>[0, 1, 0, 0, 0]</td>\n    </tr>\n  </tbody>\n</table>\n<p>34649 rows × 8 columns</p>\n</div>"
     },
     "execution_count": 22,
     "metadata": {},
     "output_type": "execute_result"
    }
   ],
   "source": [
    "df_train"
   ],
   "metadata": {
    "collapsed": false,
    "pycharm": {
     "name": "#%%\n"
    }
   }
  },
  {
   "cell_type": "code",
   "execution_count": 10,
   "outputs": [],
   "source": [
    "#df_train['input_ids'] = tokenizer(df_train.input.to_list())['input_ids']\n",
    "#df_train['input_attention_mask'] = tokenizer(df_train.input.to_list())['attention_mask']\n",
    "df_train['out'] = pd.get_dummies(df_train.score, prefix='score').agg(list, axis=1)\n"
   ],
   "metadata": {
    "collapsed": false,
    "pycharm": {
     "name": "#%%\n"
    }
   }
  },
  {
   "cell_type": "code",
   "execution_count": 11,
   "outputs": [
    {
     "data": {
      "text/plain": "((34649, 8), (1824, 8))"
     },
     "execution_count": 11,
     "metadata": {},
     "output_type": "execute_result"
    }
   ],
   "source": [
    "from sklearn.model_selection import train_test_split\n",
    "\n",
    "df_train, df_val = train_test_split(df_train, test_size=.05, shuffle=True, random_state=41)\n",
    "df_train.shape, df_val.shape"
   ],
   "metadata": {
    "collapsed": false,
    "pycharm": {
     "name": "#%%\n"
    }
   }
  },
  {
   "cell_type": "code",
   "execution_count": 12,
   "outputs": [],
   "source": [
    "class PatentDataset(Dataset):\n",
    "    def __init__(self, tokenizer: RobertaTokenizerFast, dataset, max_anchor_len, max_target_len, max_title_len, export=False):\n",
    "        \"\"\"\n",
    "\n",
    "        :param tokenizer:\n",
    "        :param dataset:\n",
    "        :param export: This mode is designed for computing final results on a dataset that does not contain the target variable\n",
    "        \"\"\"\n",
    "        super(PatentDataset, self).__init__()\n",
    "        self.export = export\n",
    "        self.tokenizer: RobertaTokenizerFast = tokenizer\n",
    "        self.df = dataset\n",
    "        self.max_length = max_anchor_len + max_target_len + max_title_len  # FIXME\n",
    "\n",
    "    def __len__(self):\n",
    "        return len(self.df)\n",
    "\n",
    "    def __getitem__(self, index):\n",
    "        seq = self.df.input.iloc[index]\n",
    "\n",
    "        inputs = self.tokenizer.encode_plus(\n",
    "            seq,\n",
    "            add_special_tokens=True,\n",
    "            return_attention_mask=True,\n",
    "            max_length=self.max_length,\n",
    "            padding='max_length'\n",
    "        )\n",
    "        ids = inputs[\"input_ids\"]\n",
    "        mask = inputs[\"attention_mask\"]\n",
    "\n",
    "        out = dict(\n",
    "            ids=torch.tensor(ids, dtype=torch.long),\n",
    "            mask=torch.tensor(mask, dtype=torch.long),\n",
    "        )\n",
    "        if not self.export:\n",
    "            out['target'] = torch.tensor(self.df.out.iloc[index], dtype=torch.float)\n",
    "\n",
    "        return out\n",
    "\n",
    "\n",
    "train_dataset = PatentDataset(tokenizer=tokenizer, dataset=df_train, max_anchor_len=MAX_ANCHOR_LEN, max_target_len=MAX_TARGET_LEN, max_title_len=MAX_TITLE_LEN)\n",
    "val_dataset = PatentDataset(tokenizer=tokenizer, dataset=df_val, max_anchor_len=MAX_ANCHOR_LEN, max_target_len=MAX_TARGET_LEN, max_title_len=MAX_TITLE_LEN)\n",
    "test_dataset = PatentDataset(tokenizer=tokenizer, dataset=df_test, max_anchor_len=MAX_ANCHOR_LEN, max_target_len=MAX_TARGET_LEN, max_title_len=MAX_TITLE_LEN, export=True)"
   ],
   "metadata": {
    "collapsed": false,
    "pycharm": {
     "name": "#%%\n"
    }
   }
  },
  {
   "cell_type": "code",
   "execution_count": 13,
   "outputs": [],
   "source": [
    "train_dataloader = DataLoader(dataset=train_dataset, batch_size=64, num_workers=12)\n",
    "val_dataloader = DataLoader(dataset=val_dataset, batch_size=64, num_workers=12)\n",
    "test_dataloader = DataLoader(dataset=test_dataset, batch_size=64, num_workers=12, shuffle=False)"
   ],
   "metadata": {
    "collapsed": false,
    "pycharm": {
     "name": "#%%\n"
    }
   }
  },
  {
   "cell_type": "markdown",
   "source": [
    "### Model"
   ],
   "metadata": {
    "collapsed": false,
    "pycharm": {
     "name": "#%% md\n"
    }
   }
  },
  {
   "cell_type": "code",
   "execution_count": 14,
   "outputs": [
    {
     "name": "stderr",
     "output_type": "stream",
     "text": [
      "Global seed set to 42\n"
     ]
    },
    {
     "data": {
      "text/plain": "42"
     },
     "execution_count": 14,
     "metadata": {},
     "output_type": "execute_result"
    }
   ],
   "source": [
    "from pytorch_lightning import Trainer, seed_everything\n",
    "from pytorch_lightning.callbacks.early_stopping import EarlyStopping\n",
    "from pytorch_lightning.core.lightning import LightningModule\n",
    "import torch\n",
    "from torch import nn\n",
    "from transformers import (PreTrainedModel, RobertaModel, RobertaTokenizerFast, RobertaConfig,\n",
    "                          get_constant_schedule_with_warmup, AdamW, RobertaTokenizer, BertTokenizerFast)\n",
    "\n",
    "from transformers import BertModel\n",
    "import pytorch_lightning as pl\n",
    "import torch.nn.functional as F\n",
    "\n",
    "seed_everything(42)\n"
   ],
   "metadata": {
    "collapsed": false,
    "pycharm": {
     "name": "#%%\n"
    }
   }
  },
  {
   "cell_type": "code",
   "execution_count": 31,
   "outputs": [
    {
     "name": "stdout",
     "output_type": "stream",
     "text": [
      "['BUILDING'\n",
      " 'PHOTOGRAPHY; CINEMATOGRAPHY; ANALOGOUS TECHNIQUES USING WAVES OTHER THAN OPTICAL WAVES; ELECTROGRAPHY; HOLOGRAPHY'\n",
      " 'ELECTRIC COMMUNICATION TECHNIQUE' 'AMMUNITION; BLASTING'\n",
      " 'MACHINES OR ENGINES IN GENERAL; ENGINE PLANTS IN GENERAL; STEAM ENGINES'\n",
      " 'BIOCHEMISTRY; BEER; SPIRITS; WINE; VINEGAR; MICROBIOLOGY; ENZYMOLOGY; MUTATION OR GENETIC ENGINEERING'\n",
      " 'WORKING OR PRESERVING WOOD OR SIMILAR MATERIAL; NAILING OR STAPLING MACHINES IN GENERAL'\n",
      " 'MEASURING; TESTING'\n",
      " 'CONVEYING; PACKING; STORING; HANDLING THIN OR FILAMENTARY MATERIAL'\n",
      " 'ELECTRIC TECHNIQUES NOT OTHERWISE PROVIDED FOR']\n"
     ]
    }
   ],
   "source": [
    "print(df_train.titleb*.unique()[:10])"
   ],
   "metadata": {
    "collapsed": false,
    "pycharm": {
     "name": "#%%\n"
    }
   }
  },
  {
   "cell_type": "code",
   "execution_count": 34,
   "outputs": [],
   "source": [
    "df_train['first_letter'] = df_train.context.str[0]"
   ],
   "metadata": {
    "collapsed": false,
    "pycharm": {
     "name": "#%%\n"
    }
   }
  },
  {
   "cell_type": "code",
   "execution_count": 37,
   "outputs": [
    {
     "data": {
      "text/plain": "['MEDICAL OR VETERINARY SCIENCE; HYGIENE',\n 'BUTCHERING; MEAT TREATMENT; PROCESSING POULTRY OR FISH',\n 'MEDICAL OR VETERINARY SCIENCE; HYGIENE',\n 'HABERDASHERY; JEWELLERY',\n 'MEDICAL OR VETERINARY SCIENCE; HYGIENE',\n 'MEDICAL OR VETERINARY SCIENCE; HYGIENE',\n 'MEDICAL OR VETERINARY SCIENCE; HYGIENE',\n 'FOODS OR FOODSTUFFS; TREATMENT THEREOF, NOT COVERED BY OTHER CLASSES',\n 'MEDICAL OR VETERINARY SCIENCE; HYGIENE',\n 'AGRICULTURE; FORESTRY; ANIMAL HUSBANDRY; HUNTING; TRAPPING; FISHING',\n 'FOODS OR FOODSTUFFS; TREATMENT THEREOF, NOT COVERED BY OTHER CLASSES',\n 'AGRICULTURE; FORESTRY; ANIMAL HUSBANDRY; HUNTING; TRAPPING; FISHING',\n 'HABERDASHERY; JEWELLERY',\n 'AGRICULTURE; FORESTRY; ANIMAL HUSBANDRY; HUNTING; TRAPPING; FISHING',\n 'WEARING APPAREL',\n 'AGRICULTURE; FORESTRY; ANIMAL HUSBANDRY; HUNTING; TRAPPING; FISHING',\n 'MEDICAL OR VETERINARY SCIENCE; HYGIENE',\n 'FOOTWEAR',\n 'SPORTS; GAMES; AMUSEMENTS',\n 'FURNITURE; DOMESTIC ARTICLES OR APPLIANCES; COFFEE MILLS; SPICE MILLS; SUCTION CLEANERS IN GENERAL',\n 'MEDICAL OR VETERINARY SCIENCE; HYGIENE',\n 'MEDICAL OR VETERINARY SCIENCE; HYGIENE',\n 'MEDICAL OR VETERINARY SCIENCE; HYGIENE',\n 'MEDICAL OR VETERINARY SCIENCE; HYGIENE',\n 'MEDICAL OR VETERINARY SCIENCE; HYGIENE',\n 'FURNITURE; DOMESTIC ARTICLES OR APPLIANCES; COFFEE MILLS; SPICE MILLS; SUCTION CLEANERS IN GENERAL',\n 'BAKING; EDIBLE DOUGHS',\n 'BUTCHERING; MEAT TREATMENT; PROCESSING POULTRY OR FISH',\n 'MEDICAL OR VETERINARY SCIENCE; HYGIENE',\n 'SPORTS; GAMES; AMUSEMENTS',\n 'FURNITURE; DOMESTIC ARTICLES OR APPLIANCES; COFFEE MILLS; SPICE MILLS; SUCTION CLEANERS IN GENERAL',\n 'FOOTWEAR',\n 'WEARING APPAREL',\n 'FURNITURE; DOMESTIC ARTICLES OR APPLIANCES; COFFEE MILLS; SPICE MILLS; SUCTION CLEANERS IN GENERAL',\n 'AGRICULTURE; FORESTRY; ANIMAL HUSBANDRY; HUNTING; TRAPPING; FISHING',\n 'MEDICAL OR VETERINARY SCIENCE; HYGIENE',\n 'MEDICAL OR VETERINARY SCIENCE; HYGIENE',\n 'MEDICAL OR VETERINARY SCIENCE; HYGIENE',\n 'AGRICULTURE; FORESTRY; ANIMAL HUSBANDRY; HUNTING; TRAPPING; FISHING',\n 'MEDICAL OR VETERINARY SCIENCE; HYGIENE',\n 'MEDICAL OR VETERINARY SCIENCE; HYGIENE',\n 'MEDICAL OR VETERINARY SCIENCE; HYGIENE',\n 'HAND OR TRAVELLING ARTICLES',\n 'FURNITURE; DOMESTIC ARTICLES OR APPLIANCES; COFFEE MILLS; SPICE MILLS; SUCTION CLEANERS IN GENERAL',\n 'HABERDASHERY; JEWELLERY',\n 'HABERDASHERY; JEWELLERY',\n 'MEDICAL OR VETERINARY SCIENCE; HYGIENE',\n 'MEDICAL OR VETERINARY SCIENCE; HYGIENE',\n 'FURNITURE; DOMESTIC ARTICLES OR APPLIANCES; COFFEE MILLS; SPICE MILLS; SUCTION CLEANERS IN GENERAL',\n 'MEDICAL OR VETERINARY SCIENCE; HYGIENE',\n 'BRUSHWARE',\n 'MEDICAL OR VETERINARY SCIENCE; HYGIENE',\n 'FOODS OR FOODSTUFFS; TREATMENT THEREOF, NOT COVERED BY OTHER CLASSES',\n 'MEDICAL OR VETERINARY SCIENCE; HYGIENE',\n 'MEDICAL OR VETERINARY SCIENCE; HYGIENE',\n 'FURNITURE; DOMESTIC ARTICLES OR APPLIANCES; COFFEE MILLS; SPICE MILLS; SUCTION CLEANERS IN GENERAL',\n 'AGRICULTURE; FORESTRY; ANIMAL HUSBANDRY; HUNTING; TRAPPING; FISHING',\n 'SPORTS; GAMES; AMUSEMENTS',\n 'MEDICAL OR VETERINARY SCIENCE; HYGIENE',\n 'MEDICAL OR VETERINARY SCIENCE; HYGIENE',\n 'FURNITURE; DOMESTIC ARTICLES OR APPLIANCES; COFFEE MILLS; SPICE MILLS; SUCTION CLEANERS IN GENERAL',\n 'AGRICULTURE; FORESTRY; ANIMAL HUSBANDRY; HUNTING; TRAPPING; FISHING',\n 'MEDICAL OR VETERINARY SCIENCE; HYGIENE',\n 'MEDICAL OR VETERINARY SCIENCE; HYGIENE',\n 'BUTCHERING; MEAT TREATMENT; PROCESSING POULTRY OR FISH',\n 'AGRICULTURE; FORESTRY; ANIMAL HUSBANDRY; HUNTING; TRAPPING; FISHING',\n 'SPORTS; GAMES; AMUSEMENTS',\n 'SPORTS; GAMES; AMUSEMENTS',\n 'FURNITURE; DOMESTIC ARTICLES OR APPLIANCES; COFFEE MILLS; SPICE MILLS; SUCTION CLEANERS IN GENERAL',\n 'FURNITURE; DOMESTIC ARTICLES OR APPLIANCES; COFFEE MILLS; SPICE MILLS; SUCTION CLEANERS IN GENERAL',\n 'BUTCHERING; MEAT TREATMENT; PROCESSING POULTRY OR FISH',\n 'FURNITURE; DOMESTIC ARTICLES OR APPLIANCES; COFFEE MILLS; SPICE MILLS; SUCTION CLEANERS IN GENERAL',\n 'MEDICAL OR VETERINARY SCIENCE; HYGIENE',\n 'MEDICAL OR VETERINARY SCIENCE; HYGIENE',\n 'FURNITURE; DOMESTIC ARTICLES OR APPLIANCES; COFFEE MILLS; SPICE MILLS; SUCTION CLEANERS IN GENERAL',\n 'MEDICAL OR VETERINARY SCIENCE; HYGIENE',\n 'MEDICAL OR VETERINARY SCIENCE; HYGIENE',\n 'AGRICULTURE; FORESTRY; ANIMAL HUSBANDRY; HUNTING; TRAPPING; FISHING',\n 'MEDICAL OR VETERINARY SCIENCE; HYGIENE',\n 'AGRICULTURE; FORESTRY; ANIMAL HUSBANDRY; HUNTING; TRAPPING; FISHING',\n 'MEDICAL OR VETERINARY SCIENCE; HYGIENE',\n 'SPORTS; GAMES; AMUSEMENTS',\n 'MEDICAL OR VETERINARY SCIENCE; HYGIENE',\n 'MEDICAL OR VETERINARY SCIENCE; HYGIENE',\n 'MEDICAL OR VETERINARY SCIENCE; HYGIENE',\n 'FURNITURE; DOMESTIC ARTICLES OR APPLIANCES; COFFEE MILLS; SPICE MILLS; SUCTION CLEANERS IN GENERAL',\n 'AGRICULTURE; FORESTRY; ANIMAL HUSBANDRY; HUNTING; TRAPPING; FISHING',\n 'FOOTWEAR',\n 'MEDICAL OR VETERINARY SCIENCE; HYGIENE',\n 'MEDICAL OR VETERINARY SCIENCE; HYGIENE',\n 'FOOTWEAR',\n 'MEDICAL OR VETERINARY SCIENCE; HYGIENE',\n 'SPORTS; GAMES; AMUSEMENTS',\n 'AGRICULTURE; FORESTRY; ANIMAL HUSBANDRY; HUNTING; TRAPPING; FISHING',\n 'FURNITURE; DOMESTIC ARTICLES OR APPLIANCES; COFFEE MILLS; SPICE MILLS; SUCTION CLEANERS IN GENERAL',\n 'BAKING; EDIBLE DOUGHS',\n 'AGRICULTURE; FORESTRY; ANIMAL HUSBANDRY; HUNTING; TRAPPING; FISHING',\n 'HAND OR TRAVELLING ARTICLES',\n 'MEDICAL OR VETERINARY SCIENCE; HYGIENE',\n 'MEDICAL OR VETERINARY SCIENCE; HYGIENE',\n 'FURNITURE; DOMESTIC ARTICLES OR APPLIANCES; COFFEE MILLS; SPICE MILLS; SUCTION CLEANERS IN GENERAL',\n 'MEDICAL OR VETERINARY SCIENCE; HYGIENE',\n 'MEDICAL OR VETERINARY SCIENCE; HYGIENE',\n 'BRUSHWARE',\n 'FURNITURE; DOMESTIC ARTICLES OR APPLIANCES; COFFEE MILLS; SPICE MILLS; SUCTION CLEANERS IN GENERAL',\n 'FURNITURE; DOMESTIC ARTICLES OR APPLIANCES; COFFEE MILLS; SPICE MILLS; SUCTION CLEANERS IN GENERAL',\n 'HAND OR TRAVELLING ARTICLES',\n 'MEDICAL OR VETERINARY SCIENCE; HYGIENE',\n 'AGRICULTURE; FORESTRY; ANIMAL HUSBANDRY; HUNTING; TRAPPING; FISHING',\n 'MEDICAL OR VETERINARY SCIENCE; HYGIENE',\n 'AGRICULTURE; FORESTRY; ANIMAL HUSBANDRY; HUNTING; TRAPPING; FISHING',\n 'BRUSHWARE',\n 'AGRICULTURE; FORESTRY; ANIMAL HUSBANDRY; HUNTING; TRAPPING; FISHING',\n 'MEDICAL OR VETERINARY SCIENCE; HYGIENE',\n 'FOOTWEAR',\n 'MEDICAL OR VETERINARY SCIENCE; HYGIENE',\n 'MEDICAL OR VETERINARY SCIENCE; HYGIENE',\n 'HAND OR TRAVELLING ARTICLES',\n 'MEDICAL OR VETERINARY SCIENCE; HYGIENE',\n 'FOOTWEAR',\n 'FOOTWEAR',\n 'LIFE-SAVING; FIRE-FIGHTING',\n 'FOOTWEAR',\n 'WEARING APPAREL',\n 'FOODS OR FOODSTUFFS; TREATMENT THEREOF, NOT COVERED BY OTHER CLASSES',\n 'FOODS OR FOODSTUFFS; TREATMENT THEREOF, NOT COVERED BY OTHER CLASSES',\n 'MEDICAL OR VETERINARY SCIENCE; HYGIENE',\n 'FOODS OR FOODSTUFFS; TREATMENT THEREOF, NOT COVERED BY OTHER CLASSES',\n 'MEDICAL OR VETERINARY SCIENCE; HYGIENE',\n 'AGRICULTURE; FORESTRY; ANIMAL HUSBANDRY; HUNTING; TRAPPING; FISHING',\n 'HABERDASHERY; JEWELLERY',\n 'AGRICULTURE; FORESTRY; ANIMAL HUSBANDRY; HUNTING; TRAPPING; FISHING',\n 'BUTCHERING; MEAT TREATMENT; PROCESSING POULTRY OR FISH',\n 'MEDICAL OR VETERINARY SCIENCE; HYGIENE',\n 'FURNITURE; DOMESTIC ARTICLES OR APPLIANCES; COFFEE MILLS; SPICE MILLS; SUCTION CLEANERS IN GENERAL',\n 'AGRICULTURE; FORESTRY; ANIMAL HUSBANDRY; HUNTING; TRAPPING; FISHING',\n 'AGRICULTURE; FORESTRY; ANIMAL HUSBANDRY; HUNTING; TRAPPING; FISHING',\n 'FURNITURE; DOMESTIC ARTICLES OR APPLIANCES; COFFEE MILLS; SPICE MILLS; SUCTION CLEANERS IN GENERAL',\n 'AGRICULTURE; FORESTRY; ANIMAL HUSBANDRY; HUNTING; TRAPPING; FISHING',\n 'FOOTWEAR',\n 'SPORTS; GAMES; AMUSEMENTS',\n 'AGRICULTURE; FORESTRY; ANIMAL HUSBANDRY; HUNTING; TRAPPING; FISHING',\n 'FOODS OR FOODSTUFFS; TREATMENT THEREOF, NOT COVERED BY OTHER CLASSES',\n 'FOODS OR FOODSTUFFS; TREATMENT THEREOF, NOT COVERED BY OTHER CLASSES',\n 'MEDICAL OR VETERINARY SCIENCE; HYGIENE',\n 'AGRICULTURE; FORESTRY; ANIMAL HUSBANDRY; HUNTING; TRAPPING; FISHING',\n 'AGRICULTURE; FORESTRY; ANIMAL HUSBANDRY; HUNTING; TRAPPING; FISHING',\n 'MEDICAL OR VETERINARY SCIENCE; HYGIENE',\n 'AGRICULTURE; FORESTRY; ANIMAL HUSBANDRY; HUNTING; TRAPPING; FISHING',\n 'MEDICAL OR VETERINARY SCIENCE; HYGIENE',\n 'MEDICAL OR VETERINARY SCIENCE; HYGIENE',\n 'AGRICULTURE; FORESTRY; ANIMAL HUSBANDRY; HUNTING; TRAPPING; FISHING',\n 'AGRICULTURE; FORESTRY; ANIMAL HUSBANDRY; HUNTING; TRAPPING; FISHING',\n 'MEDICAL OR VETERINARY SCIENCE; HYGIENE',\n 'AGRICULTURE; FORESTRY; ANIMAL HUSBANDRY; HUNTING; TRAPPING; FISHING',\n 'SPORTS; GAMES; AMUSEMENTS',\n 'MEDICAL OR VETERINARY SCIENCE; HYGIENE',\n 'MEDICAL OR VETERINARY SCIENCE; HYGIENE',\n 'MEDICAL OR VETERINARY SCIENCE; HYGIENE',\n 'SPORTS; GAMES; AMUSEMENTS',\n 'MEDICAL OR VETERINARY SCIENCE; HYGIENE',\n 'HABERDASHERY; JEWELLERY',\n 'FOOTWEAR',\n 'MEDICAL OR VETERINARY SCIENCE; HYGIENE',\n 'AGRICULTURE; FORESTRY; ANIMAL HUSBANDRY; HUNTING; TRAPPING; FISHING',\n 'MEDICAL OR VETERINARY SCIENCE; HYGIENE',\n 'FURNITURE; DOMESTIC ARTICLES OR APPLIANCES; COFFEE MILLS; SPICE MILLS; SUCTION CLEANERS IN GENERAL',\n 'AGRICULTURE; FORESTRY; ANIMAL HUSBANDRY; HUNTING; TRAPPING; FISHING',\n 'AGRICULTURE; FORESTRY; ANIMAL HUSBANDRY; HUNTING; TRAPPING; FISHING',\n 'MEDICAL OR VETERINARY SCIENCE; HYGIENE',\n 'MEDICAL OR VETERINARY SCIENCE; HYGIENE',\n 'MEDICAL OR VETERINARY SCIENCE; HYGIENE',\n 'MEDICAL OR VETERINARY SCIENCE; HYGIENE',\n 'SPORTS; GAMES; AMUSEMENTS',\n 'MEDICAL OR VETERINARY SCIENCE; HYGIENE',\n 'AGRICULTURE; FORESTRY; ANIMAL HUSBANDRY; HUNTING; TRAPPING; FISHING',\n 'MEDICAL OR VETERINARY SCIENCE; HYGIENE',\n 'SPORTS; GAMES; AMUSEMENTS',\n 'AGRICULTURE; FORESTRY; ANIMAL HUSBANDRY; HUNTING; TRAPPING; FISHING',\n 'MEDICAL OR VETERINARY SCIENCE; HYGIENE',\n 'MEDICAL OR VETERINARY SCIENCE; HYGIENE',\n 'MEDICAL OR VETERINARY SCIENCE; HYGIENE',\n 'MEDICAL OR VETERINARY SCIENCE; HYGIENE',\n 'FURNITURE; DOMESTIC ARTICLES OR APPLIANCES; COFFEE MILLS; SPICE MILLS; SUCTION CLEANERS IN GENERAL',\n \"TOBACCO; CIGARS; CIGARETTES; SIMULATED SMOKING DEVICES; SMOKERS' REQUISITES\",\n 'FURNITURE; DOMESTIC ARTICLES OR APPLIANCES; COFFEE MILLS; SPICE MILLS; SUCTION CLEANERS IN GENERAL',\n 'FURNITURE; DOMESTIC ARTICLES OR APPLIANCES; COFFEE MILLS; SPICE MILLS; SUCTION CLEANERS IN GENERAL',\n 'AGRICULTURE; FORESTRY; ANIMAL HUSBANDRY; HUNTING; TRAPPING; FISHING',\n 'MEDICAL OR VETERINARY SCIENCE; HYGIENE',\n 'MEDICAL OR VETERINARY SCIENCE; HYGIENE',\n 'AGRICULTURE; FORESTRY; ANIMAL HUSBANDRY; HUNTING; TRAPPING; FISHING',\n 'FOODS OR FOODSTUFFS; TREATMENT THEREOF, NOT COVERED BY OTHER CLASSES',\n 'MEDICAL OR VETERINARY SCIENCE; HYGIENE',\n 'MEDICAL OR VETERINARY SCIENCE; HYGIENE',\n 'MEDICAL OR VETERINARY SCIENCE; HYGIENE',\n 'MEDICAL OR VETERINARY SCIENCE; HYGIENE',\n 'BRUSHWARE',\n 'HABERDASHERY; JEWELLERY',\n 'WEARING APPAREL',\n 'AGRICULTURE; FORESTRY; ANIMAL HUSBANDRY; HUNTING; TRAPPING; FISHING',\n 'AGRICULTURE; FORESTRY; ANIMAL HUSBANDRY; HUNTING; TRAPPING; FISHING',\n 'FURNITURE; DOMESTIC ARTICLES OR APPLIANCES; COFFEE MILLS; SPICE MILLS; SUCTION CLEANERS IN GENERAL',\n 'MEDICAL OR VETERINARY SCIENCE; HYGIENE',\n 'FURNITURE; DOMESTIC ARTICLES OR APPLIANCES; COFFEE MILLS; SPICE MILLS; SUCTION CLEANERS IN GENERAL',\n 'SPORTS; GAMES; AMUSEMENTS',\n 'MEDICAL OR VETERINARY SCIENCE; HYGIENE',\n 'BAKING; EDIBLE DOUGHS',\n 'MEDICAL OR VETERINARY SCIENCE; HYGIENE',\n 'SPORTS; GAMES; AMUSEMENTS',\n 'FOOTWEAR',\n 'AGRICULTURE; FORESTRY; ANIMAL HUSBANDRY; HUNTING; TRAPPING; FISHING',\n 'FOOTWEAR',\n 'MEDICAL OR VETERINARY SCIENCE; HYGIENE',\n 'SPORTS; GAMES; AMUSEMENTS',\n 'MEDICAL OR VETERINARY SCIENCE; HYGIENE',\n 'MEDICAL OR VETERINARY SCIENCE; HYGIENE',\n 'AGRICULTURE; FORESTRY; ANIMAL HUSBANDRY; HUNTING; TRAPPING; FISHING',\n 'HAND OR TRAVELLING ARTICLES',\n 'LIFE-SAVING; FIRE-FIGHTING',\n 'FURNITURE; DOMESTIC ARTICLES OR APPLIANCES; COFFEE MILLS; SPICE MILLS; SUCTION CLEANERS IN GENERAL',\n 'MEDICAL OR VETERINARY SCIENCE; HYGIENE',\n 'MEDICAL OR VETERINARY SCIENCE; HYGIENE',\n 'MEDICAL OR VETERINARY SCIENCE; HYGIENE',\n 'BRUSHWARE',\n 'HAND OR TRAVELLING ARTICLES',\n 'FOOTWEAR',\n 'MEDICAL OR VETERINARY SCIENCE; HYGIENE',\n 'SPORTS; GAMES; AMUSEMENTS',\n 'SPORTS; GAMES; AMUSEMENTS',\n 'MEDICAL OR VETERINARY SCIENCE; HYGIENE',\n 'MEDICAL OR VETERINARY SCIENCE; HYGIENE',\n 'MEDICAL OR VETERINARY SCIENCE; HYGIENE',\n 'FURNITURE; DOMESTIC ARTICLES OR APPLIANCES; COFFEE MILLS; SPICE MILLS; SUCTION CLEANERS IN GENERAL',\n \"TOBACCO; CIGARS; CIGARETTES; SIMULATED SMOKING DEVICES; SMOKERS' REQUISITES\",\n 'SPORTS; GAMES; AMUSEMENTS',\n 'FOOTWEAR',\n 'FOOTWEAR',\n 'BUTCHERING; MEAT TREATMENT; PROCESSING POULTRY OR FISH',\n 'MEDICAL OR VETERINARY SCIENCE; HYGIENE',\n 'MEDICAL OR VETERINARY SCIENCE; HYGIENE',\n 'MEDICAL OR VETERINARY SCIENCE; HYGIENE',\n 'MEDICAL OR VETERINARY SCIENCE; HYGIENE',\n 'AGRICULTURE; FORESTRY; ANIMAL HUSBANDRY; HUNTING; TRAPPING; FISHING',\n 'MEDICAL OR VETERINARY SCIENCE; HYGIENE',\n 'AGRICULTURE; FORESTRY; ANIMAL HUSBANDRY; HUNTING; TRAPPING; FISHING',\n 'BUTCHERING; MEAT TREATMENT; PROCESSING POULTRY OR FISH',\n 'FURNITURE; DOMESTIC ARTICLES OR APPLIANCES; COFFEE MILLS; SPICE MILLS; SUCTION CLEANERS IN GENERAL',\n 'FURNITURE; DOMESTIC ARTICLES OR APPLIANCES; COFFEE MILLS; SPICE MILLS; SUCTION CLEANERS IN GENERAL',\n 'FURNITURE; DOMESTIC ARTICLES OR APPLIANCES; COFFEE MILLS; SPICE MILLS; SUCTION CLEANERS IN GENERAL',\n 'SPORTS; GAMES; AMUSEMENTS',\n 'AGRICULTURE; FORESTRY; ANIMAL HUSBANDRY; HUNTING; TRAPPING; FISHING',\n 'MEDICAL OR VETERINARY SCIENCE; HYGIENE',\n 'MEDICAL OR VETERINARY SCIENCE; HYGIENE',\n 'AGRICULTURE; FORESTRY; ANIMAL HUSBANDRY; HUNTING; TRAPPING; FISHING',\n 'MEDICAL OR VETERINARY SCIENCE; HYGIENE',\n 'MEDICAL OR VETERINARY SCIENCE; HYGIENE',\n 'WEARING APPAREL',\n 'FURNITURE; DOMESTIC ARTICLES OR APPLIANCES; COFFEE MILLS; SPICE MILLS; SUCTION CLEANERS IN GENERAL',\n 'SPORTS; GAMES; AMUSEMENTS',\n 'SPORTS; GAMES; AMUSEMENTS',\n 'SPORTS; GAMES; AMUSEMENTS',\n 'AGRICULTURE; FORESTRY; ANIMAL HUSBANDRY; HUNTING; TRAPPING; FISHING',\n 'MEDICAL OR VETERINARY SCIENCE; HYGIENE',\n 'MEDICAL OR VETERINARY SCIENCE; HYGIENE',\n 'MEDICAL OR VETERINARY SCIENCE; HYGIENE',\n 'MEDICAL OR VETERINARY SCIENCE; HYGIENE',\n 'MEDICAL OR VETERINARY SCIENCE; HYGIENE',\n 'FOODS OR FOODSTUFFS; TREATMENT THEREOF, NOT COVERED BY OTHER CLASSES',\n 'AGRICULTURE; FORESTRY; ANIMAL HUSBANDRY; HUNTING; TRAPPING; FISHING',\n 'SPORTS; GAMES; AMUSEMENTS',\n 'MEDICAL OR VETERINARY SCIENCE; HYGIENE',\n 'MEDICAL OR VETERINARY SCIENCE; HYGIENE',\n 'MEDICAL OR VETERINARY SCIENCE; HYGIENE',\n 'MEDICAL OR VETERINARY SCIENCE; HYGIENE',\n 'AGRICULTURE; FORESTRY; ANIMAL HUSBANDRY; HUNTING; TRAPPING; FISHING',\n 'MEDICAL OR VETERINARY SCIENCE; HYGIENE',\n 'MEDICAL OR VETERINARY SCIENCE; HYGIENE',\n 'MEDICAL OR VETERINARY SCIENCE; HYGIENE',\n 'HABERDASHERY; JEWELLERY',\n 'MEDICAL OR VETERINARY SCIENCE; HYGIENE',\n 'FURNITURE; DOMESTIC ARTICLES OR APPLIANCES; COFFEE MILLS; SPICE MILLS; SUCTION CLEANERS IN GENERAL',\n 'AGRICULTURE; FORESTRY; ANIMAL HUSBANDRY; HUNTING; TRAPPING; FISHING',\n 'SPORTS; GAMES; AMUSEMENTS',\n 'AGRICULTURE; FORESTRY; ANIMAL HUSBANDRY; HUNTING; TRAPPING; FISHING',\n 'HAND OR TRAVELLING ARTICLES',\n 'AGRICULTURE; FORESTRY; ANIMAL HUSBANDRY; HUNTING; TRAPPING; FISHING',\n 'AGRICULTURE; FORESTRY; ANIMAL HUSBANDRY; HUNTING; TRAPPING; FISHING',\n 'FURNITURE; DOMESTIC ARTICLES OR APPLIANCES; COFFEE MILLS; SPICE MILLS; SUCTION CLEANERS IN GENERAL',\n 'BAKING; EDIBLE DOUGHS',\n 'FOOTWEAR',\n 'MEDICAL OR VETERINARY SCIENCE; HYGIENE',\n 'MEDICAL OR VETERINARY SCIENCE; HYGIENE',\n 'MEDICAL OR VETERINARY SCIENCE; HYGIENE',\n 'AGRICULTURE; FORESTRY; ANIMAL HUSBANDRY; HUNTING; TRAPPING; FISHING',\n 'WEARING APPAREL',\n 'FURNITURE; DOMESTIC ARTICLES OR APPLIANCES; COFFEE MILLS; SPICE MILLS; SUCTION CLEANERS IN GENERAL',\n 'MEDICAL OR VETERINARY SCIENCE; HYGIENE',\n 'MEDICAL OR VETERINARY SCIENCE; HYGIENE',\n 'FOOTWEAR',\n 'AGRICULTURE; FORESTRY; ANIMAL HUSBANDRY; HUNTING; TRAPPING; FISHING',\n 'MEDICAL OR VETERINARY SCIENCE; HYGIENE',\n 'MEDICAL OR VETERINARY SCIENCE; HYGIENE',\n 'FOOTWEAR',\n 'FOOTWEAR',\n 'MEDICAL OR VETERINARY SCIENCE; HYGIENE',\n 'AGRICULTURE; FORESTRY; ANIMAL HUSBANDRY; HUNTING; TRAPPING; FISHING',\n 'BAKING; EDIBLE DOUGHS',\n 'AGRICULTURE; FORESTRY; ANIMAL HUSBANDRY; HUNTING; TRAPPING; FISHING',\n 'AGRICULTURE; FORESTRY; ANIMAL HUSBANDRY; HUNTING; TRAPPING; FISHING',\n 'WEARING APPAREL',\n 'MEDICAL OR VETERINARY SCIENCE; HYGIENE',\n 'AGRICULTURE; FORESTRY; ANIMAL HUSBANDRY; HUNTING; TRAPPING; FISHING',\n 'SPORTS; GAMES; AMUSEMENTS',\n 'MEDICAL OR VETERINARY SCIENCE; HYGIENE',\n 'AGRICULTURE; FORESTRY; ANIMAL HUSBANDRY; HUNTING; TRAPPING; FISHING',\n 'FOOTWEAR',\n 'HABERDASHERY; JEWELLERY',\n 'MEDICAL OR VETERINARY SCIENCE; HYGIENE',\n 'MEDICAL OR VETERINARY SCIENCE; HYGIENE',\n 'MEDICAL OR VETERINARY SCIENCE; HYGIENE',\n 'AGRICULTURE; FORESTRY; ANIMAL HUSBANDRY; HUNTING; TRAPPING; FISHING',\n 'MEDICAL OR VETERINARY SCIENCE; HYGIENE',\n 'MEDICAL OR VETERINARY SCIENCE; HYGIENE',\n 'FOOTWEAR',\n 'SPORTS; GAMES; AMUSEMENTS',\n 'FOOTWEAR',\n 'FOOTWEAR',\n 'MEDICAL OR VETERINARY SCIENCE; HYGIENE',\n 'SPORTS; GAMES; AMUSEMENTS',\n 'BAKING; EDIBLE DOUGHS',\n 'MEDICAL OR VETERINARY SCIENCE; HYGIENE',\n 'BAKING; EDIBLE DOUGHS',\n 'HABERDASHERY; JEWELLERY',\n 'FOOTWEAR',\n 'FOODS OR FOODSTUFFS; TREATMENT THEREOF, NOT COVERED BY OTHER CLASSES',\n 'MEDICAL OR VETERINARY SCIENCE; HYGIENE',\n 'MEDICAL OR VETERINARY SCIENCE; HYGIENE',\n 'FOOTWEAR',\n 'FURNITURE; DOMESTIC ARTICLES OR APPLIANCES; COFFEE MILLS; SPICE MILLS; SUCTION CLEANERS IN GENERAL',\n 'BRUSHWARE',\n 'MEDICAL OR VETERINARY SCIENCE; HYGIENE',\n 'MEDICAL OR VETERINARY SCIENCE; HYGIENE',\n 'MEDICAL OR VETERINARY SCIENCE; HYGIENE',\n 'MEDICAL OR VETERINARY SCIENCE; HYGIENE',\n 'AGRICULTURE; FORESTRY; ANIMAL HUSBANDRY; HUNTING; TRAPPING; FISHING',\n 'WEARING APPAREL',\n 'SPORTS; GAMES; AMUSEMENTS',\n \"TOBACCO; CIGARS; CIGARETTES; SIMULATED SMOKING DEVICES; SMOKERS' REQUISITES\",\n 'MEDICAL OR VETERINARY SCIENCE; HYGIENE',\n 'HABERDASHERY; JEWELLERY',\n 'AGRICULTURE; FORESTRY; ANIMAL HUSBANDRY; HUNTING; TRAPPING; FISHING',\n 'MEDICAL OR VETERINARY SCIENCE; HYGIENE',\n 'MEDICAL OR VETERINARY SCIENCE; HYGIENE',\n 'MEDICAL OR VETERINARY SCIENCE; HYGIENE',\n 'SPORTS; GAMES; AMUSEMENTS',\n 'WEARING APPAREL',\n 'AGRICULTURE; FORESTRY; ANIMAL HUSBANDRY; HUNTING; TRAPPING; FISHING',\n 'AGRICULTURE; FORESTRY; ANIMAL HUSBANDRY; HUNTING; TRAPPING; FISHING',\n 'AGRICULTURE; FORESTRY; ANIMAL HUSBANDRY; HUNTING; TRAPPING; FISHING',\n 'AGRICULTURE; FORESTRY; ANIMAL HUSBANDRY; HUNTING; TRAPPING; FISHING',\n 'SPORTS; GAMES; AMUSEMENTS',\n 'WEARING APPAREL',\n 'MEDICAL OR VETERINARY SCIENCE; HYGIENE',\n 'MEDICAL OR VETERINARY SCIENCE; HYGIENE',\n 'AGRICULTURE; FORESTRY; ANIMAL HUSBANDRY; HUNTING; TRAPPING; FISHING',\n 'BUTCHERING; MEAT TREATMENT; PROCESSING POULTRY OR FISH',\n 'MEDICAL OR VETERINARY SCIENCE; HYGIENE',\n 'MEDICAL OR VETERINARY SCIENCE; HYGIENE',\n 'FURNITURE; DOMESTIC ARTICLES OR APPLIANCES; COFFEE MILLS; SPICE MILLS; SUCTION CLEANERS IN GENERAL',\n 'WEARING APPAREL',\n 'MEDICAL OR VETERINARY SCIENCE; HYGIENE',\n 'FOODS OR FOODSTUFFS; TREATMENT THEREOF, NOT COVERED BY OTHER CLASSES',\n 'HAND OR TRAVELLING ARTICLES',\n 'FURNITURE; DOMESTIC ARTICLES OR APPLIANCES; COFFEE MILLS; SPICE MILLS; SUCTION CLEANERS IN GENERAL',\n 'MEDICAL OR VETERINARY SCIENCE; HYGIENE',\n 'MEDICAL OR VETERINARY SCIENCE; HYGIENE',\n 'MEDICAL OR VETERINARY SCIENCE; HYGIENE',\n 'FOOTWEAR',\n 'MEDICAL OR VETERINARY SCIENCE; HYGIENE',\n 'MEDICAL OR VETERINARY SCIENCE; HYGIENE',\n 'FOOTWEAR',\n 'FURNITURE; DOMESTIC ARTICLES OR APPLIANCES; COFFEE MILLS; SPICE MILLS; SUCTION CLEANERS IN GENERAL',\n 'BUTCHERING; MEAT TREATMENT; PROCESSING POULTRY OR FISH',\n 'MEDICAL OR VETERINARY SCIENCE; HYGIENE',\n 'FOODS OR FOODSTUFFS; TREATMENT THEREOF, NOT COVERED BY OTHER CLASSES',\n 'SPORTS; GAMES; AMUSEMENTS',\n 'FURNITURE; DOMESTIC ARTICLES OR APPLIANCES; COFFEE MILLS; SPICE MILLS; SUCTION CLEANERS IN GENERAL',\n 'FOODS OR FOODSTUFFS; TREATMENT THEREOF, NOT COVERED BY OTHER CLASSES',\n 'MEDICAL OR VETERINARY SCIENCE; HYGIENE',\n 'MEDICAL OR VETERINARY SCIENCE; HYGIENE',\n 'WEARING APPAREL',\n 'HABERDASHERY; JEWELLERY',\n 'FOODS OR FOODSTUFFS; TREATMENT THEREOF, NOT COVERED BY OTHER CLASSES',\n 'FOODS OR FOODSTUFFS; TREATMENT THEREOF, NOT COVERED BY OTHER CLASSES',\n 'HABERDASHERY; JEWELLERY',\n 'FURNITURE; DOMESTIC ARTICLES OR APPLIANCES; COFFEE MILLS; SPICE MILLS; SUCTION CLEANERS IN GENERAL',\n 'SPORTS; GAMES; AMUSEMENTS',\n 'MEDICAL OR VETERINARY SCIENCE; HYGIENE',\n \"TOBACCO; CIGARS; CIGARETTES; SIMULATED SMOKING DEVICES; SMOKERS' REQUISITES\",\n 'WEARING APPAREL',\n 'MEDICAL OR VETERINARY SCIENCE; HYGIENE',\n 'SPORTS; GAMES; AMUSEMENTS',\n 'SPORTS; GAMES; AMUSEMENTS',\n 'WEARING APPAREL',\n 'MEDICAL OR VETERINARY SCIENCE; HYGIENE',\n \"TOBACCO; CIGARS; CIGARETTES; SIMULATED SMOKING DEVICES; SMOKERS' REQUISITES\",\n 'MEDICAL OR VETERINARY SCIENCE; HYGIENE',\n 'AGRICULTURE; FORESTRY; ANIMAL HUSBANDRY; HUNTING; TRAPPING; FISHING',\n 'MEDICAL OR VETERINARY SCIENCE; HYGIENE',\n 'WEARING APPAREL',\n 'MEDICAL OR VETERINARY SCIENCE; HYGIENE',\n 'FOODS OR FOODSTUFFS; TREATMENT THEREOF, NOT COVERED BY OTHER CLASSES',\n 'MEDICAL OR VETERINARY SCIENCE; HYGIENE',\n 'AGRICULTURE; FORESTRY; ANIMAL HUSBANDRY; HUNTING; TRAPPING; FISHING',\n 'SPORTS; GAMES; AMUSEMENTS',\n 'MEDICAL OR VETERINARY SCIENCE; HYGIENE',\n 'MEDICAL OR VETERINARY SCIENCE; HYGIENE',\n 'HAND OR TRAVELLING ARTICLES',\n \"TOBACCO; CIGARS; CIGARETTES; SIMULATED SMOKING DEVICES; SMOKERS' REQUISITES\",\n 'SPORTS; GAMES; AMUSEMENTS',\n 'FURNITURE; DOMESTIC ARTICLES OR APPLIANCES; COFFEE MILLS; SPICE MILLS; SUCTION CLEANERS IN GENERAL',\n 'MEDICAL OR VETERINARY SCIENCE; HYGIENE',\n 'MEDICAL OR VETERINARY SCIENCE; HYGIENE',\n 'MEDICAL OR VETERINARY SCIENCE; HYGIENE',\n 'SPORTS; GAMES; AMUSEMENTS',\n 'SPORTS; GAMES; AMUSEMENTS',\n 'HABERDASHERY; JEWELLERY',\n 'MEDICAL OR VETERINARY SCIENCE; HYGIENE',\n 'BRUSHWARE',\n 'SPORTS; GAMES; AMUSEMENTS',\n 'SPORTS; GAMES; AMUSEMENTS',\n 'AGRICULTURE; FORESTRY; ANIMAL HUSBANDRY; HUNTING; TRAPPING; FISHING',\n 'MEDICAL OR VETERINARY SCIENCE; HYGIENE',\n 'SPORTS; GAMES; AMUSEMENTS',\n 'MEDICAL OR VETERINARY SCIENCE; HYGIENE',\n 'AGRICULTURE; FORESTRY; ANIMAL HUSBANDRY; HUNTING; TRAPPING; FISHING',\n 'AGRICULTURE; FORESTRY; ANIMAL HUSBANDRY; HUNTING; TRAPPING; FISHING',\n 'MEDICAL OR VETERINARY SCIENCE; HYGIENE',\n 'FURNITURE; DOMESTIC ARTICLES OR APPLIANCES; COFFEE MILLS; SPICE MILLS; SUCTION CLEANERS IN GENERAL',\n 'AGRICULTURE; FORESTRY; ANIMAL HUSBANDRY; HUNTING; TRAPPING; FISHING',\n 'MEDICAL OR VETERINARY SCIENCE; HYGIENE',\n 'MEDICAL OR VETERINARY SCIENCE; HYGIENE',\n 'SPORTS; GAMES; AMUSEMENTS',\n 'SPORTS; GAMES; AMUSEMENTS',\n 'FOOTWEAR',\n 'WEARING APPAREL',\n 'FOOTWEAR',\n 'AGRICULTURE; FORESTRY; ANIMAL HUSBANDRY; HUNTING; TRAPPING; FISHING',\n 'FURNITURE; DOMESTIC ARTICLES OR APPLIANCES; COFFEE MILLS; SPICE MILLS; SUCTION CLEANERS IN GENERAL',\n 'SPORTS; GAMES; AMUSEMENTS',\n 'WEARING APPAREL',\n 'MEDICAL OR VETERINARY SCIENCE; HYGIENE',\n 'SPORTS; GAMES; AMUSEMENTS',\n 'HABERDASHERY; JEWELLERY',\n 'AGRICULTURE; FORESTRY; ANIMAL HUSBANDRY; HUNTING; TRAPPING; FISHING',\n 'MEDICAL OR VETERINARY SCIENCE; HYGIENE',\n 'FURNITURE; DOMESTIC ARTICLES OR APPLIANCES; COFFEE MILLS; SPICE MILLS; SUCTION CLEANERS IN GENERAL',\n 'MEDICAL OR VETERINARY SCIENCE; HYGIENE',\n 'MEDICAL OR VETERINARY SCIENCE; HYGIENE',\n 'FOOTWEAR',\n 'AGRICULTURE; FORESTRY; ANIMAL HUSBANDRY; HUNTING; TRAPPING; FISHING',\n 'MEDICAL OR VETERINARY SCIENCE; HYGIENE',\n 'MEDICAL OR VETERINARY SCIENCE; HYGIENE',\n 'MEDICAL OR VETERINARY SCIENCE; HYGIENE',\n 'FURNITURE; DOMESTIC ARTICLES OR APPLIANCES; COFFEE MILLS; SPICE MILLS; SUCTION CLEANERS IN GENERAL',\n 'AGRICULTURE; FORESTRY; ANIMAL HUSBANDRY; HUNTING; TRAPPING; FISHING',\n 'SPORTS; GAMES; AMUSEMENTS',\n 'BRUSHWARE',\n 'FOOTWEAR',\n 'SPORTS; GAMES; AMUSEMENTS',\n 'AGRICULTURE; FORESTRY; ANIMAL HUSBANDRY; HUNTING; TRAPPING; FISHING',\n 'FURNITURE; DOMESTIC ARTICLES OR APPLIANCES; COFFEE MILLS; SPICE MILLS; SUCTION CLEANERS IN GENERAL',\n 'MEDICAL OR VETERINARY SCIENCE; HYGIENE',\n 'AGRICULTURE; FORESTRY; ANIMAL HUSBANDRY; HUNTING; TRAPPING; FISHING',\n 'MEDICAL OR VETERINARY SCIENCE; HYGIENE',\n 'FURNITURE; DOMESTIC ARTICLES OR APPLIANCES; COFFEE MILLS; SPICE MILLS; SUCTION CLEANERS IN GENERAL',\n 'MEDICAL OR VETERINARY SCIENCE; HYGIENE',\n 'AGRICULTURE; FORESTRY; ANIMAL HUSBANDRY; HUNTING; TRAPPING; FISHING',\n 'AGRICULTURE; FORESTRY; ANIMAL HUSBANDRY; HUNTING; TRAPPING; FISHING',\n 'BRUSHWARE',\n 'FURNITURE; DOMESTIC ARTICLES OR APPLIANCES; COFFEE MILLS; SPICE MILLS; SUCTION CLEANERS IN GENERAL',\n 'MEDICAL OR VETERINARY SCIENCE; HYGIENE',\n 'LIFE-SAVING; FIRE-FIGHTING',\n 'AGRICULTURE; FORESTRY; ANIMAL HUSBANDRY; HUNTING; TRAPPING; FISHING',\n 'BAKING; EDIBLE DOUGHS',\n 'MEDICAL OR VETERINARY SCIENCE; HYGIENE',\n 'AGRICULTURE; FORESTRY; ANIMAL HUSBANDRY; HUNTING; TRAPPING; FISHING',\n 'MEDICAL OR VETERINARY SCIENCE; HYGIENE',\n 'MEDICAL OR VETERINARY SCIENCE; HYGIENE',\n 'AGRICULTURE; FORESTRY; ANIMAL HUSBANDRY; HUNTING; TRAPPING; FISHING',\n 'HABERDASHERY; JEWELLERY',\n 'SPORTS; GAMES; AMUSEMENTS',\n 'FOODS OR FOODSTUFFS; TREATMENT THEREOF, NOT COVERED BY OTHER CLASSES',\n 'MEDICAL OR VETERINARY SCIENCE; HYGIENE',\n 'SPORTS; GAMES; AMUSEMENTS',\n 'FOODS OR FOODSTUFFS; TREATMENT THEREOF, NOT COVERED BY OTHER CLASSES',\n 'MEDICAL OR VETERINARY SCIENCE; HYGIENE',\n 'BRUSHWARE',\n 'SPORTS; GAMES; AMUSEMENTS',\n 'MEDICAL OR VETERINARY SCIENCE; HYGIENE',\n 'FURNITURE; DOMESTIC ARTICLES OR APPLIANCES; COFFEE MILLS; SPICE MILLS; SUCTION CLEANERS IN GENERAL',\n 'FURNITURE; DOMESTIC ARTICLES OR APPLIANCES; COFFEE MILLS; SPICE MILLS; SUCTION CLEANERS IN GENERAL',\n 'MEDICAL OR VETERINARY SCIENCE; HYGIENE',\n 'MEDICAL OR VETERINARY SCIENCE; HYGIENE',\n 'MEDICAL OR VETERINARY SCIENCE; HYGIENE',\n 'MEDICAL OR VETERINARY SCIENCE; HYGIENE',\n 'BRUSHWARE',\n 'AGRICULTURE; FORESTRY; ANIMAL HUSBANDRY; HUNTING; TRAPPING; FISHING',\n 'SPORTS; GAMES; AMUSEMENTS',\n 'HAND OR TRAVELLING ARTICLES',\n 'AGRICULTURE; FORESTRY; ANIMAL HUSBANDRY; HUNTING; TRAPPING; FISHING',\n 'FURNITURE; DOMESTIC ARTICLES OR APPLIANCES; COFFEE MILLS; SPICE MILLS; SUCTION CLEANERS IN GENERAL',\n 'FOOTWEAR',\n 'AGRICULTURE; FORESTRY; ANIMAL HUSBANDRY; HUNTING; TRAPPING; FISHING',\n 'FURNITURE; DOMESTIC ARTICLES OR APPLIANCES; COFFEE MILLS; SPICE MILLS; SUCTION CLEANERS IN GENERAL',\n 'MEDICAL OR VETERINARY SCIENCE; HYGIENE',\n 'SPORTS; GAMES; AMUSEMENTS',\n \"TOBACCO; CIGARS; CIGARETTES; SIMULATED SMOKING DEVICES; SMOKERS' REQUISITES\",\n \"TOBACCO; CIGARS; CIGARETTES; SIMULATED SMOKING DEVICES; SMOKERS' REQUISITES\",\n 'MEDICAL OR VETERINARY SCIENCE; HYGIENE',\n 'SPORTS; GAMES; AMUSEMENTS',\n 'AGRICULTURE; FORESTRY; ANIMAL HUSBANDRY; HUNTING; TRAPPING; FISHING',\n 'MEDICAL OR VETERINARY SCIENCE; HYGIENE',\n 'SPORTS; GAMES; AMUSEMENTS',\n 'MEDICAL OR VETERINARY SCIENCE; HYGIENE',\n 'MEDICAL OR VETERINARY SCIENCE; HYGIENE',\n 'MEDICAL OR VETERINARY SCIENCE; HYGIENE',\n 'HAND OR TRAVELLING ARTICLES',\n 'SPORTS; GAMES; AMUSEMENTS',\n 'SPORTS; GAMES; AMUSEMENTS',\n 'MEDICAL OR VETERINARY SCIENCE; HYGIENE',\n 'AGRICULTURE; FORESTRY; ANIMAL HUSBANDRY; HUNTING; TRAPPING; FISHING',\n 'SPORTS; GAMES; AMUSEMENTS',\n 'MEDICAL OR VETERINARY SCIENCE; HYGIENE',\n 'MEDICAL OR VETERINARY SCIENCE; HYGIENE',\n 'MEDICAL OR VETERINARY SCIENCE; HYGIENE',\n 'MEDICAL OR VETERINARY SCIENCE; HYGIENE',\n 'FOOTWEAR',\n 'AGRICULTURE; FORESTRY; ANIMAL HUSBANDRY; HUNTING; TRAPPING; FISHING',\n 'FURNITURE; DOMESTIC ARTICLES OR APPLIANCES; COFFEE MILLS; SPICE MILLS; SUCTION CLEANERS IN GENERAL',\n 'MEDICAL OR VETERINARY SCIENCE; HYGIENE',\n 'SPORTS; GAMES; AMUSEMENTS',\n 'SPORTS; GAMES; AMUSEMENTS',\n 'FURNITURE; DOMESTIC ARTICLES OR APPLIANCES; COFFEE MILLS; SPICE MILLS; SUCTION CLEANERS IN GENERAL',\n 'FURNITURE; DOMESTIC ARTICLES OR APPLIANCES; COFFEE MILLS; SPICE MILLS; SUCTION CLEANERS IN GENERAL',\n 'SPORTS; GAMES; AMUSEMENTS',\n 'BRUSHWARE',\n 'FURNITURE; DOMESTIC ARTICLES OR APPLIANCES; COFFEE MILLS; SPICE MILLS; SUCTION CLEANERS IN GENERAL',\n 'MEDICAL OR VETERINARY SCIENCE; HYGIENE',\n 'FURNITURE; DOMESTIC ARTICLES OR APPLIANCES; COFFEE MILLS; SPICE MILLS; SUCTION CLEANERS IN GENERAL',\n 'AGRICULTURE; FORESTRY; ANIMAL HUSBANDRY; HUNTING; TRAPPING; FISHING',\n 'MEDICAL OR VETERINARY SCIENCE; HYGIENE',\n 'AGRICULTURE; FORESTRY; ANIMAL HUSBANDRY; HUNTING; TRAPPING; FISHING',\n 'MEDICAL OR VETERINARY SCIENCE; HYGIENE',\n 'MEDICAL OR VETERINARY SCIENCE; HYGIENE',\n 'FURNITURE; DOMESTIC ARTICLES OR APPLIANCES; COFFEE MILLS; SPICE MILLS; SUCTION CLEANERS IN GENERAL',\n 'HAND OR TRAVELLING ARTICLES',\n 'AGRICULTURE; FORESTRY; ANIMAL HUSBANDRY; HUNTING; TRAPPING; FISHING',\n 'MEDICAL OR VETERINARY SCIENCE; HYGIENE',\n 'BUTCHERING; MEAT TREATMENT; PROCESSING POULTRY OR FISH',\n 'MEDICAL OR VETERINARY SCIENCE; HYGIENE',\n 'MEDICAL OR VETERINARY SCIENCE; HYGIENE',\n 'FURNITURE; DOMESTIC ARTICLES OR APPLIANCES; COFFEE MILLS; SPICE MILLS; SUCTION CLEANERS IN GENERAL',\n 'AGRICULTURE; FORESTRY; ANIMAL HUSBANDRY; HUNTING; TRAPPING; FISHING',\n 'AGRICULTURE; FORESTRY; ANIMAL HUSBANDRY; HUNTING; TRAPPING; FISHING',\n 'MEDICAL OR VETERINARY SCIENCE; HYGIENE',\n 'MEDICAL OR VETERINARY SCIENCE; HYGIENE',\n 'MEDICAL OR VETERINARY SCIENCE; HYGIENE',\n 'FOODS OR FOODSTUFFS; TREATMENT THEREOF, NOT COVERED BY OTHER CLASSES',\n 'FOOTWEAR',\n 'HAND OR TRAVELLING ARTICLES',\n 'FURNITURE; DOMESTIC ARTICLES OR APPLIANCES; COFFEE MILLS; SPICE MILLS; SUCTION CLEANERS IN GENERAL',\n 'BUTCHERING; MEAT TREATMENT; PROCESSING POULTRY OR FISH',\n 'SPORTS; GAMES; AMUSEMENTS',\n 'MEDICAL OR VETERINARY SCIENCE; HYGIENE',\n 'MEDICAL OR VETERINARY SCIENCE; HYGIENE',\n 'MEDICAL OR VETERINARY SCIENCE; HYGIENE',\n 'AGRICULTURE; FORESTRY; ANIMAL HUSBANDRY; HUNTING; TRAPPING; FISHING',\n 'AGRICULTURE; FORESTRY; ANIMAL HUSBANDRY; HUNTING; TRAPPING; FISHING',\n 'SPORTS; GAMES; AMUSEMENTS',\n 'SPORTS; GAMES; AMUSEMENTS',\n 'MEDICAL OR VETERINARY SCIENCE; HYGIENE',\n 'SPORTS; GAMES; AMUSEMENTS',\n 'FURNITURE; DOMESTIC ARTICLES OR APPLIANCES; COFFEE MILLS; SPICE MILLS; SUCTION CLEANERS IN GENERAL',\n 'FOOTWEAR',\n 'MEDICAL OR VETERINARY SCIENCE; HYGIENE',\n 'SPORTS; GAMES; AMUSEMENTS',\n 'MEDICAL OR VETERINARY SCIENCE; HYGIENE',\n 'SPORTS; GAMES; AMUSEMENTS',\n 'HAND OR TRAVELLING ARTICLES',\n 'SPORTS; GAMES; AMUSEMENTS',\n 'AGRICULTURE; FORESTRY; ANIMAL HUSBANDRY; HUNTING; TRAPPING; FISHING',\n 'WEARING APPAREL',\n 'SPORTS; GAMES; AMUSEMENTS',\n 'SPORTS; GAMES; AMUSEMENTS',\n 'MEDICAL OR VETERINARY SCIENCE; HYGIENE',\n 'MEDICAL OR VETERINARY SCIENCE; HYGIENE',\n 'MEDICAL OR VETERINARY SCIENCE; HYGIENE',\n 'MEDICAL OR VETERINARY SCIENCE; HYGIENE',\n 'AGRICULTURE; FORESTRY; ANIMAL HUSBANDRY; HUNTING; TRAPPING; FISHING',\n 'FURNITURE; DOMESTIC ARTICLES OR APPLIANCES; COFFEE MILLS; SPICE MILLS; SUCTION CLEANERS IN GENERAL',\n 'SPORTS; GAMES; AMUSEMENTS',\n 'MEDICAL OR VETERINARY SCIENCE; HYGIENE',\n 'MEDICAL OR VETERINARY SCIENCE; HYGIENE',\n 'MEDICAL OR VETERINARY SCIENCE; HYGIENE',\n 'MEDICAL OR VETERINARY SCIENCE; HYGIENE',\n 'WEARING APPAREL',\n 'FOOTWEAR',\n 'MEDICAL OR VETERINARY SCIENCE; HYGIENE',\n 'MEDICAL OR VETERINARY SCIENCE; HYGIENE',\n 'FURNITURE; DOMESTIC ARTICLES OR APPLIANCES; COFFEE MILLS; SPICE MILLS; SUCTION CLEANERS IN GENERAL',\n 'MEDICAL OR VETERINARY SCIENCE; HYGIENE',\n 'MEDICAL OR VETERINARY SCIENCE; HYGIENE',\n 'MEDICAL OR VETERINARY SCIENCE; HYGIENE',\n 'MEDICAL OR VETERINARY SCIENCE; HYGIENE',\n 'MEDICAL OR VETERINARY SCIENCE; HYGIENE',\n 'SPORTS; GAMES; AMUSEMENTS',\n 'SPORTS; GAMES; AMUSEMENTS',\n 'MEDICAL OR VETERINARY SCIENCE; HYGIENE',\n 'FOOTWEAR',\n 'MEDICAL OR VETERINARY SCIENCE; HYGIENE',\n 'SPORTS; GAMES; AMUSEMENTS',\n 'FOODS OR FOODSTUFFS; TREATMENT THEREOF, NOT COVERED BY OTHER CLASSES',\n 'MEDICAL OR VETERINARY SCIENCE; HYGIENE',\n 'FURNITURE; DOMESTIC ARTICLES OR APPLIANCES; COFFEE MILLS; SPICE MILLS; SUCTION CLEANERS IN GENERAL',\n 'AGRICULTURE; FORESTRY; ANIMAL HUSBANDRY; HUNTING; TRAPPING; FISHING',\n 'BAKING; EDIBLE DOUGHS',\n 'MEDICAL OR VETERINARY SCIENCE; HYGIENE',\n 'AGRICULTURE; FORESTRY; ANIMAL HUSBANDRY; HUNTING; TRAPPING; FISHING',\n 'MEDICAL OR VETERINARY SCIENCE; HYGIENE',\n 'MEDICAL OR VETERINARY SCIENCE; HYGIENE',\n 'MEDICAL OR VETERINARY SCIENCE; HYGIENE',\n 'MEDICAL OR VETERINARY SCIENCE; HYGIENE',\n 'BUTCHERING; MEAT TREATMENT; PROCESSING POULTRY OR FISH',\n \"TOBACCO; CIGARS; CIGARETTES; SIMULATED SMOKING DEVICES; SMOKERS' REQUISITES\",\n 'BRUSHWARE',\n 'MEDICAL OR VETERINARY SCIENCE; HYGIENE',\n 'MEDICAL OR VETERINARY SCIENCE; HYGIENE',\n 'FURNITURE; DOMESTIC ARTICLES OR APPLIANCES; COFFEE MILLS; SPICE MILLS; SUCTION CLEANERS IN GENERAL',\n 'AGRICULTURE; FORESTRY; ANIMAL HUSBANDRY; HUNTING; TRAPPING; FISHING',\n 'FOOTWEAR',\n 'SPORTS; GAMES; AMUSEMENTS',\n 'MEDICAL OR VETERINARY SCIENCE; HYGIENE',\n 'AGRICULTURE; FORESTRY; ANIMAL HUSBANDRY; HUNTING; TRAPPING; FISHING',\n 'MEDICAL OR VETERINARY SCIENCE; HYGIENE',\n 'FURNITURE; DOMESTIC ARTICLES OR APPLIANCES; COFFEE MILLS; SPICE MILLS; SUCTION CLEANERS IN GENERAL',\n 'AGRICULTURE; FORESTRY; ANIMAL HUSBANDRY; HUNTING; TRAPPING; FISHING',\n 'AGRICULTURE; FORESTRY; ANIMAL HUSBANDRY; HUNTING; TRAPPING; FISHING',\n 'MEDICAL OR VETERINARY SCIENCE; HYGIENE',\n 'MEDICAL OR VETERINARY SCIENCE; HYGIENE',\n 'AGRICULTURE; FORESTRY; ANIMAL HUSBANDRY; HUNTING; TRAPPING; FISHING',\n 'MEDICAL OR VETERINARY SCIENCE; HYGIENE',\n 'AGRICULTURE; FORESTRY; ANIMAL HUSBANDRY; HUNTING; TRAPPING; FISHING',\n 'MEDICAL OR VETERINARY SCIENCE; HYGIENE',\n 'MEDICAL OR VETERINARY SCIENCE; HYGIENE',\n 'MEDICAL OR VETERINARY SCIENCE; HYGIENE',\n 'BRUSHWARE',\n 'MEDICAL OR VETERINARY SCIENCE; HYGIENE',\n 'MEDICAL OR VETERINARY SCIENCE; HYGIENE',\n 'AGRICULTURE; FORESTRY; ANIMAL HUSBANDRY; HUNTING; TRAPPING; FISHING',\n 'FURNITURE; DOMESTIC ARTICLES OR APPLIANCES; COFFEE MILLS; SPICE MILLS; SUCTION CLEANERS IN GENERAL',\n 'MEDICAL OR VETERINARY SCIENCE; HYGIENE',\n 'WEARING APPAREL',\n 'SPORTS; GAMES; AMUSEMENTS',\n 'MEDICAL OR VETERINARY SCIENCE; HYGIENE',\n 'MEDICAL OR VETERINARY SCIENCE; HYGIENE',\n 'SPORTS; GAMES; AMUSEMENTS',\n 'BRUSHWARE',\n 'MEDICAL OR VETERINARY SCIENCE; HYGIENE',\n 'MEDICAL OR VETERINARY SCIENCE; HYGIENE',\n 'SPORTS; GAMES; AMUSEMENTS',\n 'MEDICAL OR VETERINARY SCIENCE; HYGIENE',\n 'MEDICAL OR VETERINARY SCIENCE; HYGIENE',\n 'SPORTS; GAMES; AMUSEMENTS',\n 'HAND OR TRAVELLING ARTICLES',\n 'FOODS OR FOODSTUFFS; TREATMENT THEREOF, NOT COVERED BY OTHER CLASSES',\n 'SPORTS; GAMES; AMUSEMENTS',\n 'HAND OR TRAVELLING ARTICLES',\n 'MEDICAL OR VETERINARY SCIENCE; HYGIENE',\n 'SPORTS; GAMES; AMUSEMENTS',\n 'MEDICAL OR VETERINARY SCIENCE; HYGIENE',\n 'MEDICAL OR VETERINARY SCIENCE; HYGIENE',\n 'AGRICULTURE; FORESTRY; ANIMAL HUSBANDRY; HUNTING; TRAPPING; FISHING',\n 'MEDICAL OR VETERINARY SCIENCE; HYGIENE',\n 'MEDICAL OR VETERINARY SCIENCE; HYGIENE',\n 'MEDICAL OR VETERINARY SCIENCE; HYGIENE',\n 'FURNITURE; DOMESTIC ARTICLES OR APPLIANCES; COFFEE MILLS; SPICE MILLS; SUCTION CLEANERS IN GENERAL',\n 'BUTCHERING; MEAT TREATMENT; PROCESSING POULTRY OR FISH',\n 'AGRICULTURE; FORESTRY; ANIMAL HUSBANDRY; HUNTING; TRAPPING; FISHING',\n 'MEDICAL OR VETERINARY SCIENCE; HYGIENE',\n 'BRUSHWARE',\n 'FURNITURE; DOMESTIC ARTICLES OR APPLIANCES; COFFEE MILLS; SPICE MILLS; SUCTION CLEANERS IN GENERAL',\n 'MEDICAL OR VETERINARY SCIENCE; HYGIENE',\n 'WEARING APPAREL',\n 'MEDICAL OR VETERINARY SCIENCE; HYGIENE',\n 'AGRICULTURE; FORESTRY; ANIMAL HUSBANDRY; HUNTING; TRAPPING; FISHING',\n 'MEDICAL OR VETERINARY SCIENCE; HYGIENE',\n 'BRUSHWARE',\n 'BRUSHWARE',\n 'WEARING APPAREL',\n 'MEDICAL OR VETERINARY SCIENCE; HYGIENE',\n 'MEDICAL OR VETERINARY SCIENCE; HYGIENE',\n 'AGRICULTURE; FORESTRY; ANIMAL HUSBANDRY; HUNTING; TRAPPING; FISHING',\n 'BUTCHERING; MEAT TREATMENT; PROCESSING POULTRY OR FISH',\n 'AGRICULTURE; FORESTRY; ANIMAL HUSBANDRY; HUNTING; TRAPPING; FISHING',\n 'SPORTS; GAMES; AMUSEMENTS',\n 'SPORTS; GAMES; AMUSEMENTS',\n 'BRUSHWARE',\n 'FOOTWEAR',\n 'WEARING APPAREL',\n 'MEDICAL OR VETERINARY SCIENCE; HYGIENE',\n 'BRUSHWARE',\n 'SPORTS; GAMES; AMUSEMENTS',\n 'FURNITURE; DOMESTIC ARTICLES OR APPLIANCES; COFFEE MILLS; SPICE MILLS; SUCTION CLEANERS IN GENERAL',\n 'FURNITURE; DOMESTIC ARTICLES OR APPLIANCES; COFFEE MILLS; SPICE MILLS; SUCTION CLEANERS IN GENERAL',\n 'SPORTS; GAMES; AMUSEMENTS',\n 'MEDICAL OR VETERINARY SCIENCE; HYGIENE',\n 'AGRICULTURE; FORESTRY; ANIMAL HUSBANDRY; HUNTING; TRAPPING; FISHING',\n 'MEDICAL OR VETERINARY SCIENCE; HYGIENE',\n 'BUTCHERING; MEAT TREATMENT; PROCESSING POULTRY OR FISH',\n 'MEDICAL OR VETERINARY SCIENCE; HYGIENE',\n 'AGRICULTURE; FORESTRY; ANIMAL HUSBANDRY; HUNTING; TRAPPING; FISHING',\n 'SPORTS; GAMES; AMUSEMENTS',\n 'SPORTS; GAMES; AMUSEMENTS',\n 'FOOTWEAR',\n 'BRUSHWARE',\n 'FOOTWEAR',\n 'AGRICULTURE; FORESTRY; ANIMAL HUSBANDRY; HUNTING; TRAPPING; FISHING',\n 'MEDICAL OR VETERINARY SCIENCE; HYGIENE',\n 'MEDICAL OR VETERINARY SCIENCE; HYGIENE',\n 'MEDICAL OR VETERINARY SCIENCE; HYGIENE',\n 'MEDICAL OR VETERINARY SCIENCE; HYGIENE',\n 'WEARING APPAREL',\n 'MEDICAL OR VETERINARY SCIENCE; HYGIENE',\n 'MEDICAL OR VETERINARY SCIENCE; HYGIENE',\n 'FOOTWEAR',\n 'FURNITURE; DOMESTIC ARTICLES OR APPLIANCES; COFFEE MILLS; SPICE MILLS; SUCTION CLEANERS IN GENERAL',\n 'FURNITURE; DOMESTIC ARTICLES OR APPLIANCES; COFFEE MILLS; SPICE MILLS; SUCTION CLEANERS IN GENERAL',\n 'MEDICAL OR VETERINARY SCIENCE; HYGIENE',\n 'AGRICULTURE; FORESTRY; ANIMAL HUSBANDRY; HUNTING; TRAPPING; FISHING',\n 'SPORTS; GAMES; AMUSEMENTS',\n 'MEDICAL OR VETERINARY SCIENCE; HYGIENE',\n 'SPORTS; GAMES; AMUSEMENTS',\n 'MEDICAL OR VETERINARY SCIENCE; HYGIENE',\n 'FOOTWEAR',\n 'MEDICAL OR VETERINARY SCIENCE; HYGIENE',\n 'WEARING APPAREL',\n 'AGRICULTURE; FORESTRY; ANIMAL HUSBANDRY; HUNTING; TRAPPING; FISHING',\n 'HABERDASHERY; JEWELLERY',\n 'MEDICAL OR VETERINARY SCIENCE; HYGIENE',\n 'MEDICAL OR VETERINARY SCIENCE; HYGIENE',\n 'SPORTS; GAMES; AMUSEMENTS',\n 'MEDICAL OR VETERINARY SCIENCE; HYGIENE',\n 'BUTCHERING; MEAT TREATMENT; PROCESSING POULTRY OR FISH',\n 'LIFE-SAVING; FIRE-FIGHTING',\n 'AGRICULTURE; FORESTRY; ANIMAL HUSBANDRY; HUNTING; TRAPPING; FISHING',\n 'FOOTWEAR',\n 'FURNITURE; DOMESTIC ARTICLES OR APPLIANCES; COFFEE MILLS; SPICE MILLS; SUCTION CLEANERS IN GENERAL',\n 'WEARING APPAREL',\n 'MEDICAL OR VETERINARY SCIENCE; HYGIENE',\n 'SPORTS; GAMES; AMUSEMENTS',\n 'MEDICAL OR VETERINARY SCIENCE; HYGIENE',\n 'WEARING APPAREL',\n \"TOBACCO; CIGARS; CIGARETTES; SIMULATED SMOKING DEVICES; SMOKERS' REQUISITES\",\n 'AGRICULTURE; FORESTRY; ANIMAL HUSBANDRY; HUNTING; TRAPPING; FISHING',\n 'MEDICAL OR VETERINARY SCIENCE; HYGIENE',\n 'WEARING APPAREL',\n 'AGRICULTURE; FORESTRY; ANIMAL HUSBANDRY; HUNTING; TRAPPING; FISHING',\n 'FURNITURE; DOMESTIC ARTICLES OR APPLIANCES; COFFEE MILLS; SPICE MILLS; SUCTION CLEANERS IN GENERAL',\n 'MEDICAL OR VETERINARY SCIENCE; HYGIENE',\n 'MEDICAL OR VETERINARY SCIENCE; HYGIENE',\n 'SPORTS; GAMES; AMUSEMENTS',\n 'MEDICAL OR VETERINARY SCIENCE; HYGIENE',\n 'MEDICAL OR VETERINARY SCIENCE; HYGIENE',\n 'MEDICAL OR VETERINARY SCIENCE; HYGIENE',\n 'SPORTS; GAMES; AMUSEMENTS',\n 'SPORTS; GAMES; AMUSEMENTS',\n 'FOODS OR FOODSTUFFS; TREATMENT THEREOF, NOT COVERED BY OTHER CLASSES',\n 'BRUSHWARE',\n 'FOOTWEAR',\n 'AGRICULTURE; FORESTRY; ANIMAL HUSBANDRY; HUNTING; TRAPPING; FISHING',\n 'FURNITURE; DOMESTIC ARTICLES OR APPLIANCES; COFFEE MILLS; SPICE MILLS; SUCTION CLEANERS IN GENERAL',\n 'MEDICAL OR VETERINARY SCIENCE; HYGIENE',\n 'FURNITURE; DOMESTIC ARTICLES OR APPLIANCES; COFFEE MILLS; SPICE MILLS; SUCTION CLEANERS IN GENERAL',\n 'MEDICAL OR VETERINARY SCIENCE; HYGIENE',\n 'AGRICULTURE; FORESTRY; ANIMAL HUSBANDRY; HUNTING; TRAPPING; FISHING',\n 'MEDICAL OR VETERINARY SCIENCE; HYGIENE',\n 'SPORTS; GAMES; AMUSEMENTS',\n 'SPORTS; GAMES; AMUSEMENTS',\n 'FOOTWEAR',\n 'AGRICULTURE; FORESTRY; ANIMAL HUSBANDRY; HUNTING; TRAPPING; FISHING',\n 'AGRICULTURE; FORESTRY; ANIMAL HUSBANDRY; HUNTING; TRAPPING; FISHING',\n 'HABERDASHERY; JEWELLERY',\n 'MEDICAL OR VETERINARY SCIENCE; HYGIENE',\n 'MEDICAL OR VETERINARY SCIENCE; HYGIENE',\n 'FOODS OR FOODSTUFFS; TREATMENT THEREOF, NOT COVERED BY OTHER CLASSES',\n 'BRUSHWARE',\n 'MEDICAL OR VETERINARY SCIENCE; HYGIENE',\n 'MEDICAL OR VETERINARY SCIENCE; HYGIENE',\n 'FOOTWEAR',\n 'FOOTWEAR',\n 'HABERDASHERY; JEWELLERY',\n 'AGRICULTURE; FORESTRY; ANIMAL HUSBANDRY; HUNTING; TRAPPING; FISHING',\n 'FURNITURE; DOMESTIC ARTICLES OR APPLIANCES; COFFEE MILLS; SPICE MILLS; SUCTION CLEANERS IN GENERAL',\n 'MEDICAL OR VETERINARY SCIENCE; HYGIENE',\n 'SPORTS; GAMES; AMUSEMENTS',\n 'FOOTWEAR',\n 'FOOTWEAR',\n 'MEDICAL OR VETERINARY SCIENCE; HYGIENE',\n 'SPORTS; GAMES; AMUSEMENTS',\n 'FURNITURE; DOMESTIC ARTICLES OR APPLIANCES; COFFEE MILLS; SPICE MILLS; SUCTION CLEANERS IN GENERAL',\n 'FOODS OR FOODSTUFFS; TREATMENT THEREOF, NOT COVERED BY OTHER CLASSES',\n 'FURNITURE; DOMESTIC ARTICLES OR APPLIANCES; COFFEE MILLS; SPICE MILLS; SUCTION CLEANERS IN GENERAL',\n 'BAKING; EDIBLE DOUGHS',\n 'MEDICAL OR VETERINARY SCIENCE; HYGIENE',\n 'FURNITURE; DOMESTIC ARTICLES OR APPLIANCES; COFFEE MILLS; SPICE MILLS; SUCTION CLEANERS IN GENERAL',\n 'FURNITURE; DOMESTIC ARTICLES OR APPLIANCES; COFFEE MILLS; SPICE MILLS; SUCTION CLEANERS IN GENERAL',\n 'BRUSHWARE',\n 'FOOTWEAR',\n 'SPORTS; GAMES; AMUSEMENTS',\n 'SPORTS; GAMES; AMUSEMENTS',\n 'MEDICAL OR VETERINARY SCIENCE; HYGIENE',\n 'AGRICULTURE; FORESTRY; ANIMAL HUSBANDRY; HUNTING; TRAPPING; FISHING',\n 'HAND OR TRAVELLING ARTICLES',\n 'SPORTS; GAMES; AMUSEMENTS',\n 'MEDICAL OR VETERINARY SCIENCE; HYGIENE',\n 'MEDICAL OR VETERINARY SCIENCE; HYGIENE',\n 'AGRICULTURE; FORESTRY; ANIMAL HUSBANDRY; HUNTING; TRAPPING; FISHING',\n 'HAND OR TRAVELLING ARTICLES',\n 'SPORTS; GAMES; AMUSEMENTS',\n 'SPORTS; GAMES; AMUSEMENTS',\n 'MEDICAL OR VETERINARY SCIENCE; HYGIENE',\n 'BUTCHERING; MEAT TREATMENT; PROCESSING POULTRY OR FISH',\n 'MEDICAL OR VETERINARY SCIENCE; HYGIENE',\n 'MEDICAL OR VETERINARY SCIENCE; HYGIENE',\n 'MEDICAL OR VETERINARY SCIENCE; HYGIENE',\n \"TOBACCO; CIGARS; CIGARETTES; SIMULATED SMOKING DEVICES; SMOKERS' REQUISITES\",\n 'MEDICAL OR VETERINARY SCIENCE; HYGIENE',\n 'SPORTS; GAMES; AMUSEMENTS',\n 'MEDICAL OR VETERINARY SCIENCE; HYGIENE',\n 'MEDICAL OR VETERINARY SCIENCE; HYGIENE',\n 'BRUSHWARE',\n 'MEDICAL OR VETERINARY SCIENCE; HYGIENE',\n 'MEDICAL OR VETERINARY SCIENCE; HYGIENE',\n 'MEDICAL OR VETERINARY SCIENCE; HYGIENE',\n 'MEDICAL OR VETERINARY SCIENCE; HYGIENE',\n 'FOOTWEAR',\n 'MEDICAL OR VETERINARY SCIENCE; HYGIENE',\n \"TOBACCO; CIGARS; CIGARETTES; SIMULATED SMOKING DEVICES; SMOKERS' REQUISITES\",\n 'AGRICULTURE; FORESTRY; ANIMAL HUSBANDRY; HUNTING; TRAPPING; FISHING',\n 'BUTCHERING; MEAT TREATMENT; PROCESSING POULTRY OR FISH',\n 'MEDICAL OR VETERINARY SCIENCE; HYGIENE',\n 'MEDICAL OR VETERINARY SCIENCE; HYGIENE',\n 'FURNITURE; DOMESTIC ARTICLES OR APPLIANCES; COFFEE MILLS; SPICE MILLS; SUCTION CLEANERS IN GENERAL',\n 'MEDICAL OR VETERINARY SCIENCE; HYGIENE',\n 'MEDICAL OR VETERINARY SCIENCE; HYGIENE',\n 'WEARING APPAREL',\n 'BRUSHWARE',\n 'BAKING; EDIBLE DOUGHS',\n 'MEDICAL OR VETERINARY SCIENCE; HYGIENE',\n 'WEARING APPAREL',\n 'SPORTS; GAMES; AMUSEMENTS',\n 'HAND OR TRAVELLING ARTICLES',\n 'FOOTWEAR',\n 'FOODS OR FOODSTUFFS; TREATMENT THEREOF, NOT COVERED BY OTHER CLASSES',\n 'FOOTWEAR',\n 'BRUSHWARE',\n 'MEDICAL OR VETERINARY SCIENCE; HYGIENE',\n 'FOODS OR FOODSTUFFS; TREATMENT THEREOF, NOT COVERED BY OTHER CLASSES',\n 'FURNITURE; DOMESTIC ARTICLES OR APPLIANCES; COFFEE MILLS; SPICE MILLS; SUCTION CLEANERS IN GENERAL',\n 'SPORTS; GAMES; AMUSEMENTS',\n 'MEDICAL OR VETERINARY SCIENCE; HYGIENE',\n \"TOBACCO; CIGARS; CIGARETTES; SIMULATED SMOKING DEVICES; SMOKERS' REQUISITES\",\n 'HAND OR TRAVELLING ARTICLES',\n 'MEDICAL OR VETERINARY SCIENCE; HYGIENE',\n 'AGRICULTURE; FORESTRY; ANIMAL HUSBANDRY; HUNTING; TRAPPING; FISHING',\n 'FURNITURE; DOMESTIC ARTICLES OR APPLIANCES; COFFEE MILLS; SPICE MILLS; SUCTION CLEANERS IN GENERAL',\n 'MEDICAL OR VETERINARY SCIENCE; HYGIENE',\n 'MEDICAL OR VETERINARY SCIENCE; HYGIENE',\n 'FOODS OR FOODSTUFFS; TREATMENT THEREOF, NOT COVERED BY OTHER CLASSES',\n 'FOOTWEAR',\n 'MEDICAL OR VETERINARY SCIENCE; HYGIENE',\n 'BAKING; EDIBLE DOUGHS',\n 'MEDICAL OR VETERINARY SCIENCE; HYGIENE',\n 'FURNITURE; DOMESTIC ARTICLES OR APPLIANCES; COFFEE MILLS; SPICE MILLS; SUCTION CLEANERS IN GENERAL',\n 'MEDICAL OR VETERINARY SCIENCE; HYGIENE',\n 'MEDICAL OR VETERINARY SCIENCE; HYGIENE',\n 'SPORTS; GAMES; AMUSEMENTS',\n 'FOODS OR FOODSTUFFS; TREATMENT THEREOF, NOT COVERED BY OTHER CLASSES',\n 'MEDICAL OR VETERINARY SCIENCE; HYGIENE',\n 'AGRICULTURE; FORESTRY; ANIMAL HUSBANDRY; HUNTING; TRAPPING; FISHING',\n 'SPORTS; GAMES; AMUSEMENTS',\n 'AGRICULTURE; FORESTRY; ANIMAL HUSBANDRY; HUNTING; TRAPPING; FISHING',\n 'SPORTS; GAMES; AMUSEMENTS',\n 'SPORTS; GAMES; AMUSEMENTS',\n 'MEDICAL OR VETERINARY SCIENCE; HYGIENE',\n 'AGRICULTURE; FORESTRY; ANIMAL HUSBANDRY; HUNTING; TRAPPING; FISHING',\n 'BRUSHWARE',\n 'FURNITURE; DOMESTIC ARTICLES OR APPLIANCES; COFFEE MILLS; SPICE MILLS; SUCTION CLEANERS IN GENERAL',\n 'AGRICULTURE; FORESTRY; ANIMAL HUSBANDRY; HUNTING; TRAPPING; FISHING',\n 'MEDICAL OR VETERINARY SCIENCE; HYGIENE',\n 'MEDICAL OR VETERINARY SCIENCE; HYGIENE',\n 'SPORTS; GAMES; AMUSEMENTS',\n 'MEDICAL OR VETERINARY SCIENCE; HYGIENE',\n 'FURNITURE; DOMESTIC ARTICLES OR APPLIANCES; COFFEE MILLS; SPICE MILLS; SUCTION CLEANERS IN GENERAL',\n 'SPORTS; GAMES; AMUSEMENTS',\n 'SPORTS; GAMES; AMUSEMENTS',\n 'AGRICULTURE; FORESTRY; ANIMAL HUSBANDRY; HUNTING; TRAPPING; FISHING',\n 'MEDICAL OR VETERINARY SCIENCE; HYGIENE',\n 'MEDICAL OR VETERINARY SCIENCE; HYGIENE',\n 'SPORTS; GAMES; AMUSEMENTS',\n 'FOOTWEAR',\n 'FURNITURE; DOMESTIC ARTICLES OR APPLIANCES; COFFEE MILLS; SPICE MILLS; SUCTION CLEANERS IN GENERAL',\n 'SPORTS; GAMES; AMUSEMENTS',\n 'SPORTS; GAMES; AMUSEMENTS',\n 'FOOTWEAR',\n 'AGRICULTURE; FORESTRY; ANIMAL HUSBANDRY; HUNTING; TRAPPING; FISHING',\n 'FURNITURE; DOMESTIC ARTICLES OR APPLIANCES; COFFEE MILLS; SPICE MILLS; SUCTION CLEANERS IN GENERAL',\n 'MEDICAL OR VETERINARY SCIENCE; HYGIENE',\n 'SPORTS; GAMES; AMUSEMENTS',\n 'MEDICAL OR VETERINARY SCIENCE; HYGIENE',\n 'FURNITURE; DOMESTIC ARTICLES OR APPLIANCES; COFFEE MILLS; SPICE MILLS; SUCTION CLEANERS IN GENERAL',\n 'AGRICULTURE; FORESTRY; ANIMAL HUSBANDRY; HUNTING; TRAPPING; FISHING',\n 'MEDICAL OR VETERINARY SCIENCE; HYGIENE',\n 'SPORTS; GAMES; AMUSEMENTS',\n 'MEDICAL OR VETERINARY SCIENCE; HYGIENE',\n 'FOOTWEAR',\n 'MEDICAL OR VETERINARY SCIENCE; HYGIENE',\n 'MEDICAL OR VETERINARY SCIENCE; HYGIENE',\n 'AGRICULTURE; FORESTRY; ANIMAL HUSBANDRY; HUNTING; TRAPPING; FISHING',\n 'AGRICULTURE; FORESTRY; ANIMAL HUSBANDRY; HUNTING; TRAPPING; FISHING',\n 'WEARING APPAREL',\n 'MEDICAL OR VETERINARY SCIENCE; HYGIENE',\n 'SPORTS; GAMES; AMUSEMENTS',\n 'AGRICULTURE; FORESTRY; ANIMAL HUSBANDRY; HUNTING; TRAPPING; FISHING',\n 'MEDICAL OR VETERINARY SCIENCE; HYGIENE',\n 'MEDICAL OR VETERINARY SCIENCE; HYGIENE',\n 'AGRICULTURE; FORESTRY; ANIMAL HUSBANDRY; HUNTING; TRAPPING; FISHING',\n 'MEDICAL OR VETERINARY SCIENCE; HYGIENE',\n 'SPORTS; GAMES; AMUSEMENTS',\n 'MEDICAL OR VETERINARY SCIENCE; HYGIENE',\n 'FURNITURE; DOMESTIC ARTICLES OR APPLIANCES; COFFEE MILLS; SPICE MILLS; SUCTION CLEANERS IN GENERAL',\n 'FURNITURE; DOMESTIC ARTICLES OR APPLIANCES; COFFEE MILLS; SPICE MILLS; SUCTION CLEANERS IN GENERAL',\n 'FURNITURE; DOMESTIC ARTICLES OR APPLIANCES; COFFEE MILLS; SPICE MILLS; SUCTION CLEANERS IN GENERAL',\n 'FURNITURE; DOMESTIC ARTICLES OR APPLIANCES; COFFEE MILLS; SPICE MILLS; SUCTION CLEANERS IN GENERAL',\n 'SPORTS; GAMES; AMUSEMENTS',\n 'AGRICULTURE; FORESTRY; ANIMAL HUSBANDRY; HUNTING; TRAPPING; FISHING',\n 'MEDICAL OR VETERINARY SCIENCE; HYGIENE',\n 'SPORTS; GAMES; AMUSEMENTS',\n 'BAKING; EDIBLE DOUGHS',\n 'SPORTS; GAMES; AMUSEMENTS',\n 'HAND OR TRAVELLING ARTICLES',\n 'HABERDASHERY; JEWELLERY',\n 'BAKING; EDIBLE DOUGHS',\n 'BAKING; EDIBLE DOUGHS',\n 'MEDICAL OR VETERINARY SCIENCE; HYGIENE',\n 'MEDICAL OR VETERINARY SCIENCE; HYGIENE',\n 'MEDICAL OR VETERINARY SCIENCE; HYGIENE',\n 'MEDICAL OR VETERINARY SCIENCE; HYGIENE',\n 'LIFE-SAVING; FIRE-FIGHTING',\n 'MEDICAL OR VETERINARY SCIENCE; HYGIENE',\n 'MEDICAL OR VETERINARY SCIENCE; HYGIENE',\n 'FURNITURE; DOMESTIC ARTICLES OR APPLIANCES; COFFEE MILLS; SPICE MILLS; SUCTION CLEANERS IN GENERAL',\n 'AGRICULTURE; FORESTRY; ANIMAL HUSBANDRY; HUNTING; TRAPPING; FISHING',\n 'MEDICAL OR VETERINARY SCIENCE; HYGIENE',\n 'MEDICAL OR VETERINARY SCIENCE; HYGIENE',\n 'AGRICULTURE; FORESTRY; ANIMAL HUSBANDRY; HUNTING; TRAPPING; FISHING',\n 'AGRICULTURE; FORESTRY; ANIMAL HUSBANDRY; HUNTING; TRAPPING; FISHING',\n 'BRUSHWARE',\n 'SPORTS; GAMES; AMUSEMENTS',\n 'MEDICAL OR VETERINARY SCIENCE; HYGIENE',\n 'AGRICULTURE; FORESTRY; ANIMAL HUSBANDRY; HUNTING; TRAPPING; FISHING',\n 'AGRICULTURE; FORESTRY; ANIMAL HUSBANDRY; HUNTING; TRAPPING; FISHING',\n 'BRUSHWARE',\n 'MEDICAL OR VETERINARY SCIENCE; HYGIENE',\n 'FOOTWEAR',\n 'MEDICAL OR VETERINARY SCIENCE; HYGIENE',\n 'AGRICULTURE; FORESTRY; ANIMAL HUSBANDRY; HUNTING; TRAPPING; FISHING',\n \"TOBACCO; CIGARS; CIGARETTES; SIMULATED SMOKING DEVICES; SMOKERS' REQUISITES\",\n 'MEDICAL OR VETERINARY SCIENCE; HYGIENE',\n 'MEDICAL OR VETERINARY SCIENCE; HYGIENE',\n 'MEDICAL OR VETERINARY SCIENCE; HYGIENE',\n 'FURNITURE; DOMESTIC ARTICLES OR APPLIANCES; COFFEE MILLS; SPICE MILLS; SUCTION CLEANERS IN GENERAL',\n 'AGRICULTURE; FORESTRY; ANIMAL HUSBANDRY; HUNTING; TRAPPING; FISHING',\n 'MEDICAL OR VETERINARY SCIENCE; HYGIENE',\n 'MEDICAL OR VETERINARY SCIENCE; HYGIENE',\n 'MEDICAL OR VETERINARY SCIENCE; HYGIENE',\n 'SPORTS; GAMES; AMUSEMENTS',\n 'MEDICAL OR VETERINARY SCIENCE; HYGIENE',\n 'AGRICULTURE; FORESTRY; ANIMAL HUSBANDRY; HUNTING; TRAPPING; FISHING',\n 'SPORTS; GAMES; AMUSEMENTS',\n 'WEARING APPAREL',\n 'FURNITURE; DOMESTIC ARTICLES OR APPLIANCES; COFFEE MILLS; SPICE MILLS; SUCTION CLEANERS IN GENERAL',\n 'SPORTS; GAMES; AMUSEMENTS',\n 'SPORTS; GAMES; AMUSEMENTS',\n 'MEDICAL OR VETERINARY SCIENCE; HYGIENE',\n 'FOODS OR FOODSTUFFS; TREATMENT THEREOF, NOT COVERED BY OTHER CLASSES',\n 'MEDICAL OR VETERINARY SCIENCE; HYGIENE',\n 'AGRICULTURE; FORESTRY; ANIMAL HUSBANDRY; HUNTING; TRAPPING; FISHING',\n 'FOOTWEAR',\n ...]"
     },
     "execution_count": 37,
     "metadata": {},
     "output_type": "execute_result"
    }
   ],
   "source": [
    "df_train.groupby('first_letter').title.agg(list)[0]"
   ],
   "metadata": {
    "collapsed": false,
    "pycharm": {
     "name": "#%%\n"
    }
   }
  },
  {
   "cell_type": "code",
   "execution_count": 39,
   "outputs": [
    {
     "data": {
      "text/plain": "8"
     },
     "execution_count": 39,
     "metadata": {},
     "output_type": "execute_result"
    }
   ],
   "source": [
    "df_train['first_letter'].unique().size"
   ],
   "metadata": {
    "collapsed": false,
    "pycharm": {
     "name": "#%%\n"
    }
   }
  },
  {
   "cell_type": "code",
   "execution_count": 32,
   "outputs": [
    {
     "data": {
      "text/plain": "array(['E04', 'G03', 'H04', 'F42', 'F01', 'C12', 'B27', 'G01', 'B65',\n       'H05', 'B01', 'B29', 'G06', 'H02', 'H03', 'G02', 'C09', 'F03',\n       'E02', 'G04', 'F02', 'B60', 'F16', 'B07', 'B23', 'C11', 'D01',\n       'C22', 'A61', 'B66', 'C01', 'C07', 'B81', 'A22', 'B05', 'D21',\n       'C23', 'G07', 'H01', 'G11', 'C10', 'D05', 'D04', 'F22', 'A44',\n       'B64', 'F24', 'D06', 'C04', 'E06', 'C08', 'B41', 'A23', 'C03',\n       'A01', 'G05', 'E21', 'F41', 'G08', 'F28', 'F27', 'B24', 'A41',\n       'A43', 'E05', 'B67', 'E03', 'A63', 'B61', 'A47', 'B63', 'B22',\n       'D03', 'B28', 'A21', 'G09', 'G21', 'B62', 'B44', 'F15', 'B08',\n       'B32', 'B21', 'C13', 'F04', 'A45', 'B25', 'E01', 'C02', 'A46',\n       'C06', 'B02', 'F17', 'B03', 'F23', 'C25', 'C21', 'G10', 'F21',\n       'F25', 'C14', 'A62', 'A24', 'G16', 'B31', 'F26'], dtype=object)"
     },
     "execution_count": 32,
     "metadata": {},
     "output_type": "execute_result"
    }
   ],
   "source": [
    "df_train.context.unique().str"
   ],
   "metadata": {
    "collapsed": false,
    "pycharm": {
     "name": "#%%\n"
    }
   }
  },
  {
   "cell_type": "code",
   "execution_count": 15,
   "outputs": [
    {
     "name": "stdout",
     "output_type": "stream",
     "text": [
      "Using device cuda\n"
     ]
    }
   ],
   "source": [
    "use_cuda = True\n",
    "device = torch.device(\"cuda\" if torch.cuda.is_available() and use_cuda else \"cpu\")\n",
    "print('Using device', device)"
   ],
   "metadata": {
    "collapsed": false,
    "pycharm": {
     "name": "#%%\n"
    }
   }
  },
  {
   "cell_type": "code",
   "execution_count": 16,
   "outputs": [],
   "source": [
    "from torch.nn import ModuleList\n",
    "from pytorch_lightning.utilities.types import STEP_OUTPUT\n",
    "\n",
    "\n",
    "class PatentRoBERTa(pl.LightningModule):\n",
    "    # TODO add dropout\n",
    "    def __init__(self):\n",
    "        super(PatentRoBERTa, self).__init__()\n",
    "        self.pretrained_model = RobertaModel.from_pretrained(\"roberta-base\")\n",
    "        self.hidden = nn.Linear(self.pretrained_model.config.hidden_size, self.pretrained_model.config.hidden_size)\n",
    "        self.classifier = nn.Linear(self.pretrained_model.config.hidden_size, 1)\n",
    "        # Disable training of BERT model\n",
    "        for param in self.pretrained_model.parameters():\n",
    "            param.requires_grad = False\n",
    "\n",
    "    def forward(self, ids, attention_mask):\n",
    "        _, o2 = self.pretrained_model(ids, attention_mask=attention_mask, return_dict=False)\n",
    "        out = torch.relu(self.hidden(o2))\n",
    "        out = torch.relu(self.classifier(out))\n",
    "        return out\n",
    "\n",
    "\n",
    "class PatentRoBERTaEnsemble(pl.LightningModule):\n",
    "    # TODO add dropout\n",
    "    def __init__(self, num_classes):\n",
    "        super(PatentRoBERTaEnsemble, self).__init__()\n",
    "        self.pretrained_models = ModuleList([PatentRoBERTa() for _ in range(num_classes)])\n",
    "\n",
    "    def forward(self, ids, mask):\n",
    "        out = torch.concat([pretrained_model(ids, attention_mask=mask) for pretrained_model in self.pretrained_models], dim=1)\n",
    "        new_out = new=model(out)\n",
    "        [target_t, , ]\n",
    "        return new_out\n",
    "    # [0.2, 0.3, 0.5, 0.2] [0, 1, 0, 0, 0]\n",
    "\n",
    "    def configure_optimizers(self):\n",
    "        optimizer = torch.optim.Adam(self.parameters(), lr=1e-4)\n",
    "        # optimizer = torch.optim.AdamW(self.parameters(), lr=self.config['lr'], weight_decay=self.config['weight_decay'])\n",
    "        lr_scheduler = torch.optim.lr_scheduler.StepLR(optimizer, step_size=1)\n",
    "        return [optimizer], [lr_scheduler]\n",
    "\n",
    "    def training_step(self, batch, batch_idx) -> STEP_OUTPUT:\n",
    "        loss = self._common_step(batch, batch_idx, 'train')\n",
    "        return loss\n",
    "\n",
    "    def validation_step(self, batch, batch_idx):\n",
    "        self._common_step(batch, batch_idx, 'val')\n",
    "\n",
    "    def _common_step(self, batch, batch_idx, stage: str):\n",
    "        ids, label, mask = self._prepare_batch(batch)\n",
    "        output = self(ids=ids, mask=mask)\n",
    "        label = label.type_as(output)\n",
    "        loss = F.cross_entropy(output, label)\n",
    "        acc = (torch.argmax(output, dim=-1) == torch.argmax(label, dim=-1)).float().mean()\n",
    "        self.log(f\"{stage}_loss\", loss, on_step=True)\n",
    "        self.log(f\"{stage}_acc\", acc, on_step=True)\n",
    "        return loss\n",
    "\n",
    "    def predict_step(self, batch, batch_idx: int, dataloader_idx: int = 0):\n",
    "        ids, _, mask = self._prepare_batch(batch, include_target=False)\n",
    "        output = self(ids=ids, mask=mask)\n",
    "        return torch.argmax(output, dim=-1)\n",
    "\n",
    "    def test_step(self, batch, batch_idx):\n",
    "        self._common_step(batch, batch_idx, 'test')\n",
    "\n",
    "    def _prepare_batch(self, batch, include_target=True):\n",
    "        ids = batch['ids']\n",
    "        mask = batch['mask']\n",
    "        if not include_target:\n",
    "            return ids, None, mask\n",
    "        label = batch['target']\n",
    "        return ids, label, mask\n"
   ],
   "metadata": {
    "collapsed": false,
    "pycharm": {
     "name": "#%%\n"
    }
   }
  },
  {
   "cell_type": "code",
   "execution_count": 20,
   "outputs": [
    {
     "name": "stderr",
     "output_type": "stream",
     "text": [
      "/home/cyprien/anaconda3/envs/pytorch/lib/python3.8/site-packages/pytorch_lightning/loops/utilities.py:91: PossibleUserWarning: `max_epochs` was not set. Setting it to 1000 epochs. To train without an epoch limit, set `max_epochs=-1`.\n",
      "  rank_zero_warn(\n",
      "GPU available: True, used: True\n",
      "TPU available: False, using: 0 TPU cores\n",
      "IPU available: False, using: 0 IPUs\n",
      "HPU available: False, using: 0 HPUs\n",
      "Some weights of the model checkpoint at roberta-base were not used when initializing RobertaModel: ['lm_head.decoder.weight', 'lm_head.bias', 'lm_head.dense.weight', 'lm_head.dense.bias', 'lm_head.layer_norm.bias', 'lm_head.layer_norm.weight']\n",
      "- This IS expected if you are initializing RobertaModel from the checkpoint of a model trained on another task or with another architecture (e.g. initializing a BertForSequenceClassification model from a BertForPreTraining model).\n",
      "- This IS NOT expected if you are initializing RobertaModel from the checkpoint of a model that you expect to be exactly identical (initializing a BertForSequenceClassification model from a BertForSequenceClassification model).\n",
      "Some weights of the model checkpoint at roberta-base were not used when initializing RobertaModel: ['lm_head.decoder.weight', 'lm_head.bias', 'lm_head.dense.weight', 'lm_head.dense.bias', 'lm_head.layer_norm.bias', 'lm_head.layer_norm.weight']\n",
      "- This IS expected if you are initializing RobertaModel from the checkpoint of a model trained on another task or with another architecture (e.g. initializing a BertForSequenceClassification model from a BertForPreTraining model).\n",
      "- This IS NOT expected if you are initializing RobertaModel from the checkpoint of a model that you expect to be exactly identical (initializing a BertForSequenceClassification model from a BertForSequenceClassification model).\n",
      "Some weights of the model checkpoint at roberta-base were not used when initializing RobertaModel: ['lm_head.decoder.weight', 'lm_head.bias', 'lm_head.dense.weight', 'lm_head.dense.bias', 'lm_head.layer_norm.bias', 'lm_head.layer_norm.weight']\n",
      "- This IS expected if you are initializing RobertaModel from the checkpoint of a model trained on another task or with another architecture (e.g. initializing a BertForSequenceClassification model from a BertForPreTraining model).\n",
      "- This IS NOT expected if you are initializing RobertaModel from the checkpoint of a model that you expect to be exactly identical (initializing a BertForSequenceClassification model from a BertForSequenceClassification model).\n",
      "Some weights of the model checkpoint at roberta-base were not used when initializing RobertaModel: ['lm_head.decoder.weight', 'lm_head.bias', 'lm_head.dense.weight', 'lm_head.dense.bias', 'lm_head.layer_norm.bias', 'lm_head.layer_norm.weight']\n",
      "- This IS expected if you are initializing RobertaModel from the checkpoint of a model trained on another task or with another architecture (e.g. initializing a BertForSequenceClassification model from a BertForPreTraining model).\n",
      "- This IS NOT expected if you are initializing RobertaModel from the checkpoint of a model that you expect to be exactly identical (initializing a BertForSequenceClassification model from a BertForSequenceClassification model).\n",
      "Some weights of the model checkpoint at roberta-base were not used when initializing RobertaModel: ['lm_head.decoder.weight', 'lm_head.bias', 'lm_head.dense.weight', 'lm_head.dense.bias', 'lm_head.layer_norm.bias', 'lm_head.layer_norm.weight']\n",
      "- This IS expected if you are initializing RobertaModel from the checkpoint of a model trained on another task or with another architecture (e.g. initializing a BertForSequenceClassification model from a BertForPreTraining model).\n",
      "- This IS NOT expected if you are initializing RobertaModel from the checkpoint of a model that you expect to be exactly identical (initializing a BertForSequenceClassification model from a BertForSequenceClassification model).\n"
     ]
    },
    {
     "name": "stdout",
     "output_type": "stream",
     "text": [
      "Checkpoint ./lightning_logs/lightning_logs/ensemble_model loaded\n"
     ]
    }
   ],
   "source": [
    "from pytorch_lightning.loggers import TensorBoardLogger\n",
    "from pytorch_lightning.callbacks import LearningRateMonitor\n",
    "import logging\n",
    "from logging import WARNING\n",
    "logging.basicConfig(level=WARNING)\n",
    "\n",
    "early_stop_callback = EarlyStopping(monitor=\"val_loss\", min_delta=1e-4, patience=2, verbose=False, mode=\"min\")\n",
    "lr_logger = LearningRateMonitor()\n",
    "logger = TensorBoardLogger(\"lightning_logs\")\n",
    "\n",
    "trainer = pl.Trainer(\n",
    "    accelerator='gpu',\n",
    "    gradient_clip_val=0.1,\n",
    "    # clipping gradients is a hyperparameter and important to prevent divergence\n",
    "    # of the gradient for recurrent neural networks\n",
    "    auto_lr_find=True,\n",
    "    callbacks=[lr_logger, early_stop_callback],\n",
    "    logger=logger,\n",
    "    weights_summary=\"top\",\n",
    ")\n",
    "\n",
    "hparams = dict(\n",
    "    num_classes=df_train.score.unique().size\n",
    ")\n",
    "\n",
    "checkpoint = \"./lightning_logs/lightning_logs/ensemble_model\"\n",
    "if checkpoint is not None:\n",
    "    model = PatentRoBERTaEnsemble.load_from_checkpoint(checkpoint, **hparams)\n",
    "    print(f'Checkpoint {checkpoint} loaded')\n",
    "else:\n",
    "    model = PatentRoBERTaEnsemble(**hparams)"
   ],
   "metadata": {
    "collapsed": false,
    "pycharm": {
     "name": "#%%\n"
    }
   }
  },
  {
   "cell_type": "code",
   "execution_count": 18,
   "outputs": [
    {
     "name": "stderr",
     "output_type": "stream",
     "text": [
      "LOCAL_RANK: 0 - CUDA_VISIBLE_DEVICES: [0]\n"
     ]
    },
    {
     "data": {
      "text/plain": "Validation: 0it [00:00, ?it/s]",
      "application/vnd.jupyter.widget-view+json": {
       "version_major": 2,
       "version_minor": 0,
       "model_id": "ae79155cfa5b407398e7c307b4eb96ff"
      }
     },
     "metadata": {},
     "output_type": "display_data"
    },
    {
     "name": "stdout",
     "output_type": "stream",
     "text": [
      "────────────────────────────────────────────────────────────────────────────────────────────────────────────────────────\n",
      "     Validate metric           DataLoader 0\n",
      "────────────────────────────────────────────────────────────────────────────────────────────────────────────────────────\n",
      "      val_acc_epoch        0.030701754614710808\n",
      "     val_loss_epoch         1.6351041793823242\n",
      "────────────────────────────────────────────────────────────────────────────────────────────────────────────────────────\n"
     ]
    },
    {
     "data": {
      "text/plain": "[{'val_loss_epoch': 1.6351041793823242, 'val_acc_epoch': 0.030701754614710808}]"
     },
     "execution_count": 18,
     "metadata": {},
     "output_type": "execute_result"
    }
   ],
   "source": [
    "trainer.validate(model, val_dataloader)"
   ],
   "metadata": {
    "collapsed": false,
    "pycharm": {
     "name": "#%%\n"
    }
   }
  },
  {
   "cell_type": "code",
   "execution_count": 19,
   "outputs": [
    {
     "name": "stderr",
     "output_type": "stream",
     "text": [
      "LOCAL_RANK: 0 - CUDA_VISIBLE_DEVICES: [0]\n",
      "\n",
      "  | Name              | Type       | Params\n",
      "-------------------------------------------------\n",
      "0 | pretrained_models | ModuleList | 626 M \n",
      "-------------------------------------------------\n",
      "3.0 M     Trainable params\n",
      "623 M     Non-trainable params\n",
      "626 M     Total params\n",
      "2,504.740 Total estimated model params size (MB)\n"
     ]
    },
    {
     "data": {
      "text/plain": "Sanity Checking: 0it [00:00, ?it/s]",
      "application/vnd.jupyter.widget-view+json": {
       "version_major": 2,
       "version_minor": 0,
       "model_id": "850264cb3fd34ee8bf59bf4235d7674f"
      }
     },
     "metadata": {},
     "output_type": "display_data"
    },
    {
     "data": {
      "text/plain": "Training: 0it [00:00, ?it/s]",
      "application/vnd.jupyter.widget-view+json": {
       "version_major": 2,
       "version_minor": 0,
       "model_id": "179a9f5841a5435ebc578f2f60c7c7f1"
      }
     },
     "metadata": {},
     "output_type": "display_data"
    },
    {
     "name": "stderr",
     "output_type": "stream",
     "text": [
      "/home/cyprien/anaconda3/envs/pytorch/lib/python3.8/site-packages/pytorch_lightning/trainer/trainer.py:724: UserWarning: Detected KeyboardInterrupt, attempting graceful shutdown...\n",
      "  rank_zero_warn(\"Detected KeyboardInterrupt, attempting graceful shutdown...\")\n"
     ]
    }
   ],
   "source": [
    "trainer.fit(model, train_dataloaders=train_dataloader, val_dataloaders=val_dataloader)"
   ],
   "metadata": {
    "collapsed": false,
    "pycharm": {
     "name": "#%%\n"
    }
   }
  },
  {
   "cell_type": "code",
   "execution_count": 23,
   "outputs": [],
   "source": [
    "trainer.save_checkpoint('./lightning_logs/lightning_logs/ensemble_model')"
   ],
   "metadata": {
    "collapsed": false,
    "pycharm": {
     "name": "#%%\n"
    }
   }
  },
  {
   "cell_type": "code",
   "execution_count": 21,
   "outputs": [
    {
     "name": "stderr",
     "output_type": "stream",
     "text": [
      "LOCAL_RANK: 0 - CUDA_VISIBLE_DEVICES: [0]\n"
     ]
    },
    {
     "data": {
      "text/plain": "Validation: 0it [00:00, ?it/s]",
      "application/vnd.jupyter.widget-view+json": {
       "version_major": 2,
       "version_minor": 0,
       "model_id": "f5070fe8792441db86c54a779e1d7d2f"
      }
     },
     "metadata": {},
     "output_type": "display_data"
    },
    {
     "name": "stdout",
     "output_type": "stream",
     "text": [
      "────────────────────────────────────────────────────────────────────────────────────────────────────────────────────────\n",
      "     Validate metric           DataLoader 0\n",
      "────────────────────────────────────────────────────────────────────────────────────────────────────────────────────────\n",
      "      val_acc_epoch         0.3388157784938812\n",
      "     val_loss_epoch         1.5589337348937988\n",
      "────────────────────────────────────────────────────────────────────────────────────────────────────────────────────────\n"
     ]
    },
    {
     "data": {
      "text/plain": "[{'val_loss_epoch': 1.5589337348937988, 'val_acc_epoch': 0.3388157784938812}]"
     },
     "execution_count": 21,
     "metadata": {},
     "output_type": "execute_result"
    }
   ],
   "source": [
    "trainer.validate(model, val_dataloader)"
   ],
   "metadata": {
    "collapsed": false,
    "pycharm": {
     "name": "#%%\n"
    }
   }
  },
  {
   "cell_type": "code",
   "execution_count": 21,
   "outputs": [
    {
     "name": "stderr",
     "output_type": "stream",
     "text": [
      "LOCAL_RANK: 0 - CUDA_VISIBLE_DEVICES: [0]\n"
     ]
    },
    {
     "data": {
      "text/plain": "Predicting: 358it [00:00, ?it/s]",
      "application/vnd.jupyter.widget-view+json": {
       "version_major": 2,
       "version_minor": 0,
       "model_id": "1d2ff8321e054f3ba866679a2f66f4e8"
      }
     },
     "metadata": {},
     "output_type": "display_data"
    },
    {
     "ename": "TypeError",
     "evalue": "dispatcher for __array_function__ did not return an iterable",
     "output_type": "error",
     "traceback": [
      "\u001B[0;31m---------------------------------------------------------------------------\u001B[0m",
      "\u001B[0;31mTypeError\u001B[0m                                 Traceback (most recent call last)",
      "Input \u001B[0;32mIn [21]\u001B[0m, in \u001B[0;36m<cell line: 3>\u001B[0;34m()\u001B[0m\n\u001B[1;32m      1\u001B[0m results \u001B[38;5;241m=\u001B[39m trainer\u001B[38;5;241m.\u001B[39mpredict(model, test_dataloader)\n\u001B[0;32m----> 3\u001B[0m df_test[\u001B[38;5;124m'\u001B[39m\u001B[38;5;124my_pred\u001B[39m\u001B[38;5;124m'\u001B[39m] \u001B[38;5;241m=\u001B[39m \u001B[43mnp\u001B[49m\u001B[38;5;241;43m.\u001B[39;49m\u001B[43mconcatenate\u001B[49m\u001B[43m(\u001B[49m\u001B[43mresults\u001B[49m\u001B[43m)\u001B[49m\n\u001B[1;32m      4\u001B[0m df_test\n",
      "File \u001B[0;32m<__array_function__ internals>:180\u001B[0m, in \u001B[0;36mconcatenate\u001B[0;34m(*args, **kwargs)\u001B[0m\n",
      "\u001B[0;31mTypeError\u001B[0m: dispatcher for __array_function__ did not return an iterable"
     ]
    }
   ],
   "source": [
    "results = trainer.predict(model, test_dataloader)\n",
    "\n",
    "df_test['y_pred'] = np.concatenate(results)\n",
    "df_test"
   ],
   "metadata": {
    "collapsed": false,
    "pycharm": {
     "name": "#%%\n"
    }
   }
  },
  {
   "cell_type": "code",
   "execution_count": null,
   "outputs": [],
   "source": [],
   "metadata": {
    "collapsed": false,
    "pycharm": {
     "name": "#%%\n"
    }
   }
  },
  {
   "cell_type": "code",
   "execution_count": null,
   "outputs": [],
   "source": [],
   "metadata": {
    "collapsed": false,
    "pycharm": {
     "name": "#%%\n"
    }
   }
  }
 ],
 "metadata": {
  "kernelspec": {
   "display_name": "Python 3",
   "language": "python",
   "name": "python3"
  },
  "language_info": {
   "codemirror_mode": {
    "name": "ipython",
    "version": 2
   },
   "file_extension": ".py",
   "mimetype": "text/x-python",
   "name": "python",
   "nbconvert_exporter": "python",
   "pygments_lexer": "ipython2",
   "version": "2.7.6"
  }
 },
 "nbformat": 4,
 "nbformat_minor": 0
}